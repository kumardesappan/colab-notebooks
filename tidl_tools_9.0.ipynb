{
  "nbformat": 4,
  "nbformat_minor": 0,
  "metadata": {
    "colab": {
      "provenance": [],
      "authorship_tag": "ABX9TyMqYE1CDF0m6tgzIrUEccyo",
      "include_colab_link": true
    },
    "kernelspec": {
      "name": "python3",
      "display_name": "Python 3"
    },
    "language_info": {
      "name": "python"
    }
  },
  "cells": [
    {
      "cell_type": "markdown",
      "metadata": {
        "id": "view-in-github",
        "colab_type": "text"
      },
      "source": [
        "<a href=\"https://colab.research.google.com/github/kumardesappan/colab-notebooks/blob/main/tidl_tools_9.0.ipynb\" target=\"_parent\"><img src=\"https://colab.research.google.com/assets/colab-badge.svg\" alt=\"Open In Colab\"/></a>"
      ]
    },
    {
      "cell_type": "code",
      "execution_count": 1,
      "metadata": {
        "id": "0m9iB85BtM1J",
        "outputId": "54129add-51af-48fe-bd42-e230c3563579",
        "colab": {
          "base_uri": "https://localhost:8080/"
        }
      },
      "outputs": [
        {
          "output_type": "stream",
          "name": "stdout",
          "text": [
            "--2023-10-02 11:15:32--  https://software-dl.ti.com/jacinto7/esd/tidl-tools/09_00_00_02/TIDL_TOOLS/TDA4VM/tidl_tools.tar.gz\n",
            "Resolving software-dl.ti.com (software-dl.ti.com)... 23.39.23.139, 2600:1409:9800:987::b48, 2600:1409:9800:985::b48\n",
            "Connecting to software-dl.ti.com (software-dl.ti.com)|23.39.23.139|:443... connected.\n",
            "HTTP request sent, awaiting response... 302 Moved Temporarily\n",
            "Location: https://www.ti.com/general/docs/licreg/anonymousproddownload.tsp?downloadPage=true&location=https://software-dl.ti.com/jacinto7/esd/tidl-tools/09_00_00_02/TIDL_TOOLS/TDA4VM/tidl_tools.tar.gz [following]\n",
            "--2023-10-02 11:15:32--  https://www.ti.com/general/docs/licreg/anonymousproddownload.tsp?downloadPage=true&location=https://software-dl.ti.com/jacinto7/esd/tidl-tools/09_00_00_02/TIDL_TOOLS/TDA4VM/tidl_tools.tar.gz\n",
            "Resolving www.ti.com (www.ti.com)... 23.39.23.139, 2600:1409:9800:987::b48, 2600:1409:9800:985::b48\n",
            "Connecting to www.ti.com (www.ti.com)|23.39.23.139|:443... connected.\n",
            "HTTP request sent, awaiting response... 302 Moved Temporarily\n",
            "Location: https://software-dl.ti.com/jacinto7/esd/tidl-tools/09_00_00_02/TIDL_TOOLS/TDA4VM/tidl_tools.tar.gz?tracked=1 [following]\n",
            "--2023-10-02 11:15:32--  https://software-dl.ti.com/jacinto7/esd/tidl-tools/09_00_00_02/TIDL_TOOLS/TDA4VM/tidl_tools.tar.gz?tracked=1\n",
            "Connecting to software-dl.ti.com (software-dl.ti.com)|23.39.23.139|:443... connected.\n",
            "HTTP request sent, awaiting response... 302 Moved Temporarily\n",
            "Location: https://downloads.ti.com/jacinto7/esd/tidl-tools/09_00_00_02/TIDL_TOOLS/TDA4VM/tidl_tools.tar.gz?tracked=1 [following]\n",
            "--2023-10-02 11:15:33--  https://downloads.ti.com/jacinto7/esd/tidl-tools/09_00_00_02/TIDL_TOOLS/TDA4VM/tidl_tools.tar.gz?tracked=1\n",
            "Resolving downloads.ti.com (downloads.ti.com)... 23.202.194.66\n",
            "Connecting to downloads.ti.com (downloads.ti.com)|23.202.194.66|:443... connected.\n",
            "HTTP request sent, awaiting response... 200 OK\n",
            "Length: 23785924 (23M) [application/x-gzip]\n",
            "Saving to: ‘tidl_tools.tar.gz’\n",
            "\n",
            "tidl_tools.tar.gz   100%[===================>]  22.68M  1.11MB/s    in 21s     \n",
            "\n",
            "2023-10-02 11:15:54 (1.07 MB/s) - ‘tidl_tools.tar.gz’ saved [23785924/23785924]\n",
            "\n"
          ]
        }
      ],
      "source": [
        "!wget https://software-dl.ti.com/jacinto7/esd/tidl-tools/09_00_00_02/TIDL_TOOLS/TDA4VM/tidl_tools.tar.gz"
      ]
    },
    {
      "cell_type": "code",
      "source": [
        "!tar -xzf tidl_tools.tar.gz"
      ],
      "metadata": {
        "id": "javZSMuxtgUV"
      },
      "execution_count": 2,
      "outputs": []
    },
    {
      "cell_type": "code",
      "source": [
        "!touch tidl_tools/config"
      ],
      "metadata": {
        "id": "pcAA4W3iuXLr"
      },
      "execution_count": 5,
      "outputs": []
    },
    {
      "cell_type": "code",
      "source": [
        "!wget https://github.com/TexasInstruments/edgeai-tidl-tools/blob/master/test_data/airshow.jpg"
      ],
      "metadata": {
        "colab": {
          "base_uri": "https://localhost:8080/"
        },
        "id": "QlA5XCkfxPjE",
        "outputId": "0c909531-a7c1-488a-9772-7b8da4fcf404"
      },
      "execution_count": 6,
      "outputs": [
        {
          "output_type": "stream",
          "name": "stdout",
          "text": [
            "--2023-10-02 11:21:35--  https://github.com/TexasInstruments/edgeai-tidl-tools/blob/master/test_data/airshow.jpg\n",
            "Resolving github.com (github.com)... 192.30.255.112\n",
            "Connecting to github.com (github.com)|192.30.255.112|:443... connected.\n",
            "HTTP request sent, awaiting response... 200 OK\n",
            "Length: 6667 (6.5K) [text/plain]\n",
            "Saving to: ‘airshow.jpg’\n",
            "\n",
            "\rairshow.jpg           0%[                    ]       0  --.-KB/s               \rairshow.jpg         100%[===================>]   6.51K  --.-KB/s    in 0s      \n",
            "\n",
            "2023-10-02 11:21:35 (101 MB/s) - ‘airshow.jpg’ saved [6667/6667]\n",
            "\n"
          ]
        }
      ]
    },
    {
      "cell_type": "code",
      "source": [
        "!wget https://git.ti.com/cgit/jacinto-ai/jacinto-ai-modelzoo/plain/models/vision/classification/imagenet1k/torchvision/resnet18_opset9.onnx"
      ],
      "metadata": {
        "colab": {
          "base_uri": "https://localhost:8080/"
        },
        "id": "nmxBeqvcxacM",
        "outputId": "193f1a7a-bd26-42bf-b772-2449bf1f2d28"
      },
      "execution_count": 7,
      "outputs": [
        {
          "output_type": "stream",
          "name": "stdout",
          "text": [
            "--2023-10-02 11:22:59--  https://git.ti.com/cgit/jacinto-ai/jacinto-ai-modelzoo/plain/models/vision/classification/imagenet1k/torchvision/resnet18_opset9.onnx\n",
            "Resolving git.ti.com (git.ti.com)... 198.47.28.207\n",
            "Connecting to git.ti.com (git.ti.com)|198.47.28.207|:443... connected.\n",
            "HTTP request sent, awaiting response... 200 OK\n",
            "Length: 46808064 (45M) [application/octet-stream]\n",
            "Saving to: ‘resnet18_opset9.onnx’\n",
            "\n",
            "resnet18_opset9.onn 100%[===================>]  44.64M  43.2MB/s    in 1.0s    \n",
            "\n",
            "2023-10-02 11:23:01 (43.2 MB/s) - ‘resnet18_opset9.onnx’ saved [46808064/46808064]\n",
            "\n"
          ]
        }
      ]
    },
    {
      "cell_type": "code",
      "source": [
        "!/content/tidl_tools/tidl_model_import.out /content/tidl_tools/config --modelType 2 \\\n",
        "--inputNetFile /content/resnet18_opset9.onnx --outputNetFile /content/resnet18_tidl_net.bin \\\n",
        "--outputParamsFile /content/resnet18_tidl_io_buff  --inDataNorm 1 \\\n",
        "--inMean 123.675 116.28 103.53  --inScale 0.017125 0.017507 0.017429 \\\n",
        "--inData /content/airshow.jpg --inFileFormat 0 --numFrames 1 \\\n",
        "--tidlStatsTool /content/tidl_tools/PC_dsp_test_dl_algo.out \\\n",
        "--perfSimTool /content/tidl_tools/ti_cnnperfsim.out \\\n",
        "--graphVizTool /content/tidl_tools/tidl_graphVisualiser.out \\\n",
        "--perfSimConfig /content/tidl_tools/device_config.cfg"
      ],
      "metadata": {
        "id": "fgDkbie4IKt8",
        "outputId": "a1014def-fcc0-4d54-b3ed-867806de5e4b",
        "colab": {
          "base_uri": "https://localhost:8080/"
        }
      },
      "execution_count": 9,
      "outputs": [
        {
          "output_type": "stream",
          "name": "stdout",
          "text": [
            "Couldn't open Parameter Config file ../../test/testvecs/config/import/device_config.cfg.\n",
            "Failed to read device config\n"
          ]
        }
      ]
    }
  ]
}