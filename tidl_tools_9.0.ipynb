{
  "nbformat": 4,
  "nbformat_minor": 0,
  "metadata": {
    "colab": {
      "provenance": [],
      "authorship_tag": "ABX9TyOBCLjf7iZA4w1ePWpHOzVS",
      "include_colab_link": true
    },
    "kernelspec": {
      "name": "python3",
      "display_name": "Python 3"
    },
    "language_info": {
      "name": "python"
    }
  },
  "cells": [
    {
      "cell_type": "markdown",
      "metadata": {
        "id": "view-in-github",
        "colab_type": "text"
      },
      "source": [
        "<a href=\"https://colab.research.google.com/github/kumardesappan/colab-notebooks/blob/main/tidl_tools_9.0.ipynb\" target=\"_parent\"><img src=\"https://colab.research.google.com/assets/colab-badge.svg\" alt=\"Open In Colab\"/></a>"
      ]
    },
    {
      "cell_type": "code",
      "execution_count": null,
      "metadata": {
        "id": "0m9iB85BtM1J"
      },
      "outputs": [],
      "source": [
        "!wget https://software-dl.ti.com/jacinto7/esd/tidl-tools/09_00_00_02/TIDL_TOOLS/TDA4VM/tidl_tools.tar.gz\n",
        "!tar -xzf tidl_tools.tar.gz"
      ]
    },
    {
      "cell_type": "code",
      "source": [
        "!wget https://akm-img-a-in.tosshub.com/indiatoday/images/story/201804/jet.jpeg\n",
        "!wget https://git.ti.com/cgit/jacinto-ai/jacinto-ai-modelzoo/plain/models/vision/classification/imagenet1k/torchvision/resnet18_opset9.onnx"
      ],
      "metadata": {
        "id": "QlA5XCkfxPjE"
      },
      "execution_count": null,
      "outputs": []
    },
    {
      "cell_type": "code",
      "source": [
        "!echo \"perfSimConfig = /content/tidl_tools/device_config.cfg\" >> /content/tidl_tools/config\n",
        "!echo \"/content/jet.jpeg 895\" >> /content/in_data_list.txt"
      ],
      "metadata": {
        "id": "rfWwYzBrPDHI"
      },
      "execution_count": null,
      "outputs": []
    },
    {
      "cell_type": "code",
      "source": [
        "!/content/tidl_tools/tidl_model_import.out /content/tidl_tools/config --modelType 2 \\\n",
        "--inputNetFile /content/resnet18_opset9.onnx --outputNetFile /content/resnet18_tidl_net.bin \\\n",
        "--outputParamsFile /content/resnet18_tidl_io_buff  --inDataNorm 1 \\\n",
        "--inMean 123.675 116.28 103.53  --inScale 0.017125 0.017507 0.017429 \\\n",
        "--inData /content/in_data_list.txt --inFileFormat 2 \\\n",
        "--tidlStatsTool /content/tidl_tools/PC_dsp_test_dl_algo.out \\\n",
        "--perfSimTool /content/tidl_tools/ti_cnnperfsim.out \\\n",
        "--graphVizTool /content/tidl_tools/tidl_graphVisualiser.out \\\n",
        "--inHeight 224 --inWidth 224 --inNumChannels 3 --numFrames 1\n"
      ],
      "metadata": {
        "colab": {
          "base_uri": "https://localhost:8080/"
        },
        "id": "fgDkbie4IKt8",
        "outputId": "3bdf47f1-b062-4f9b-9eb4-5036e1e3ddb5"
      },
      "execution_count": 26,
      "outputs": [
        {
          "output_type": "stream",
          "name": "stdout",
          "text": [
            "ONNX Model (Proto) File  : /content/resnet18_opset9.onnx  \n",
            "TIDL Network File      : /content/resnet18_tidl_net.bin  \n",
            "TIDL IO Info File      : /content/resnet18_tidl_io_buff  \n",
            "Current ONNX OpSet Version   : 9  \n",
            "Empty prototxt path, running calibration\n",
            "\n",
            "~~~~~Running TIDL in PC emulation mode to collect Activations range for each layer~~~~~\n",
            "\n",
            "Processing config file #0 : /content/config.qunat_stats_config.txt \n",
            " Freeing memory for user provided Net\n",
            " ----------------------- TIDL Process with REF_ONLY FLOW ------------------------\n",
            "\n",
            "#    0 . .. T    6924.97  .... ..... ... .... .....\n",
            " \n",
            " \n",
            " *****************   Calibration iteration number 0 started ************************ \n",
            " \n",
            " \n",
            " \n",
            "\n",
            "~~~~~Running TIDL in PC emulation mode to collect Activations range for each layer~~~~~\n",
            "\n",
            "Processing config file #0 : /content/config.qunat_stats_config.txt \n",
            " Freeing memory for user provided Net\n",
            " ----------------------- TIDL Process with REF_ONLY FLOW ------------------------\n",
            "\n",
            "#    0 . .. T    5081.43  .... ..... ... .... .....\n",
            " \n",
            " \n",
            " *****************   Calibration iteration number 0 completed ************************ \n",
            " \n",
            " \n",
            " \n",
            "\n",
            "------------------ Network Compiler Traces -----------------------------\n",
            "successful Memory allocation\n",
            "****************************************************\n",
            "**                ALL MODEL CHECK PASSED          **\n",
            "****************************************************\n",
            "\n"
          ]
        }
      ]
    },
    {
      "cell_type": "code",
      "source": [
        "!/content/tidl_tools/PC_dsp_test_dl_algo.out s:/content/tidl_tools/config \\\n",
        "--netBinFile /content/resnet18_tidl_net.bin \\\n",
        "--ioConfigFile /content/resnet18_tidl_io_buff1.bin \\\n",
        "--inData /content/in_data_list.txt --inFileFormat 2 \\\n",
        "--outData /content/jet_tidl_out.bin --postProcType 1"
      ],
      "metadata": {
        "id": "gBW3Lz4lRwJp",
        "outputId": "5f156c53-eb82-48ba-e9e2-6b76f1cd3a5c",
        "colab": {
          "base_uri": "https://localhost:8080/"
        }
      },
      "execution_count": 27,
      "outputs": [
        {
          "output_type": "stream",
          "name": "stdout",
          "text": [
            "\n",
            "Processing config file #0 : /content/tidl_tools/config \n",
            " Freeing memory for user provided Net\n",
            " ----------------------- TIDL Process with REF_ONLY FLOW ------------------------\n",
            "\n",
            "#    0 . .. T    1131.05  .... ..... ...\n",
            " A :   895, 1.0000, 1.0000,   895 .... ....."
          ]
        }
      ]
    }
  ]
}