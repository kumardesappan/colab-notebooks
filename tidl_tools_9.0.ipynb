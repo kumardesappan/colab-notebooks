{
  "nbformat": 4,
  "nbformat_minor": 0,
  "metadata": {
    "colab": {
      "provenance": [],
      "authorship_tag": "ABX9TyPlA19LburidzmNu/N82C6A",
      "include_colab_link": true
    },
    "kernelspec": {
      "name": "python3",
      "display_name": "Python 3"
    },
    "language_info": {
      "name": "python"
    }
  },
  "cells": [
    {
      "cell_type": "markdown",
      "metadata": {
        "id": "view-in-github",
        "colab_type": "text"
      },
      "source": [
        "<a href=\"https://colab.research.google.com/github/kumardesappan/colab-notebooks/blob/main/tidl_tools_9.0.ipynb\" target=\"_parent\"><img src=\"https://colab.research.google.com/assets/colab-badge.svg\" alt=\"Open In Colab\"/></a>"
      ]
    },
    {
      "cell_type": "code",
      "execution_count": 1,
      "metadata": {
        "id": "0m9iB85BtM1J",
        "outputId": "54129add-51af-48fe-bd42-e230c3563579",
        "colab": {
          "base_uri": "https://localhost:8080/"
        }
      },
      "outputs": [
        {
          "output_type": "stream",
          "name": "stdout",
          "text": [
            "--2023-10-02 11:15:32--  https://software-dl.ti.com/jacinto7/esd/tidl-tools/09_00_00_02/TIDL_TOOLS/TDA4VM/tidl_tools.tar.gz\n",
            "Resolving software-dl.ti.com (software-dl.ti.com)... 23.39.23.139, 2600:1409:9800:987::b48, 2600:1409:9800:985::b48\n",
            "Connecting to software-dl.ti.com (software-dl.ti.com)|23.39.23.139|:443... connected.\n",
            "HTTP request sent, awaiting response... 302 Moved Temporarily\n",
            "Location: https://www.ti.com/general/docs/licreg/anonymousproddownload.tsp?downloadPage=true&location=https://software-dl.ti.com/jacinto7/esd/tidl-tools/09_00_00_02/TIDL_TOOLS/TDA4VM/tidl_tools.tar.gz [following]\n",
            "--2023-10-02 11:15:32--  https://www.ti.com/general/docs/licreg/anonymousproddownload.tsp?downloadPage=true&location=https://software-dl.ti.com/jacinto7/esd/tidl-tools/09_00_00_02/TIDL_TOOLS/TDA4VM/tidl_tools.tar.gz\n",
            "Resolving www.ti.com (www.ti.com)... 23.39.23.139, 2600:1409:9800:987::b48, 2600:1409:9800:985::b48\n",
            "Connecting to www.ti.com (www.ti.com)|23.39.23.139|:443... connected.\n",
            "HTTP request sent, awaiting response... 302 Moved Temporarily\n",
            "Location: https://software-dl.ti.com/jacinto7/esd/tidl-tools/09_00_00_02/TIDL_TOOLS/TDA4VM/tidl_tools.tar.gz?tracked=1 [following]\n",
            "--2023-10-02 11:15:32--  https://software-dl.ti.com/jacinto7/esd/tidl-tools/09_00_00_02/TIDL_TOOLS/TDA4VM/tidl_tools.tar.gz?tracked=1\n",
            "Connecting to software-dl.ti.com (software-dl.ti.com)|23.39.23.139|:443... connected.\n",
            "HTTP request sent, awaiting response... 302 Moved Temporarily\n",
            "Location: https://downloads.ti.com/jacinto7/esd/tidl-tools/09_00_00_02/TIDL_TOOLS/TDA4VM/tidl_tools.tar.gz?tracked=1 [following]\n",
            "--2023-10-02 11:15:33--  https://downloads.ti.com/jacinto7/esd/tidl-tools/09_00_00_02/TIDL_TOOLS/TDA4VM/tidl_tools.tar.gz?tracked=1\n",
            "Resolving downloads.ti.com (downloads.ti.com)... 23.202.194.66\n",
            "Connecting to downloads.ti.com (downloads.ti.com)|23.202.194.66|:443... connected.\n",
            "HTTP request sent, awaiting response... 200 OK\n",
            "Length: 23785924 (23M) [application/x-gzip]\n",
            "Saving to: ‘tidl_tools.tar.gz’\n",
            "\n",
            "tidl_tools.tar.gz   100%[===================>]  22.68M  1.11MB/s    in 21s     \n",
            "\n",
            "2023-10-02 11:15:54 (1.07 MB/s) - ‘tidl_tools.tar.gz’ saved [23785924/23785924]\n",
            "\n"
          ]
        }
      ],
      "source": [
        "!wget https://software-dl.ti.com/jacinto7/esd/tidl-tools/09_00_00_02/TIDL_TOOLS/TDA4VM/tidl_tools.tar.gz"
      ]
    },
    {
      "cell_type": "code",
      "source": [
        "!tar -xzf tidl_tools.tar.gz"
      ],
      "metadata": {
        "id": "javZSMuxtgUV"
      },
      "execution_count": 2,
      "outputs": []
    },
    {
      "cell_type": "code",
      "source": [
        "!touch tidl_tools/config"
      ],
      "metadata": {
        "id": "pcAA4W3iuXLr"
      },
      "execution_count": 5,
      "outputs": []
    },
    {
      "cell_type": "code",
      "source": [
        "!wget https://akm-img-a-in.tosshub.com/indiatoday/images/story/201804/jet.jpeg"
      ],
      "metadata": {
        "colab": {
          "base_uri": "https://localhost:8080/"
        },
        "id": "QlA5XCkfxPjE",
        "outputId": "40a3364a-552e-4b79-a4ca-68483d9021de"
      },
      "execution_count": 15,
      "outputs": [
        {
          "output_type": "stream",
          "name": "stdout",
          "text": [
            "--2023-10-02 12:00:15--  https://akm-img-a-in.tosshub.com/indiatoday/images/story/201804/jet.jpeg\n",
            "Resolving akm-img-a-in.tosshub.com (akm-img-a-in.tosshub.com)... 23.216.147.170, 23.216.147.172, 2600:1409:7800::17d7:b061, ...\n",
            "Connecting to akm-img-a-in.tosshub.com (akm-img-a-in.tosshub.com)|23.216.147.170|:443... connected.\n",
            "HTTP request sent, awaiting response... 200 OK\n",
            "Length: 30622 (30K) [image/jpeg]\n",
            "Saving to: ‘jet.jpeg’\n",
            "\n",
            "jet.jpeg            100%[===================>]  29.90K   132KB/s    in 0.2s    \n",
            "\n",
            "2023-10-02 12:00:17 (132 KB/s) - ‘jet.jpeg’ saved [30622/30622]\n",
            "\n"
          ]
        }
      ]
    },
    {
      "cell_type": "code",
      "source": [
        "!wget https://git.ti.com/cgit/jacinto-ai/jacinto-ai-modelzoo/plain/models/vision/classification/imagenet1k/torchvision/resnet18_opset9.onnx"
      ],
      "metadata": {
        "colab": {
          "base_uri": "https://localhost:8080/"
        },
        "id": "nmxBeqvcxacM",
        "outputId": "193f1a7a-bd26-42bf-b772-2449bf1f2d28"
      },
      "execution_count": 7,
      "outputs": [
        {
          "output_type": "stream",
          "name": "stdout",
          "text": [
            "--2023-10-02 11:22:59--  https://git.ti.com/cgit/jacinto-ai/jacinto-ai-modelzoo/plain/models/vision/classification/imagenet1k/torchvision/resnet18_opset9.onnx\n",
            "Resolving git.ti.com (git.ti.com)... 198.47.28.207\n",
            "Connecting to git.ti.com (git.ti.com)|198.47.28.207|:443... connected.\n",
            "HTTP request sent, awaiting response... 200 OK\n",
            "Length: 46808064 (45M) [application/octet-stream]\n",
            "Saving to: ‘resnet18_opset9.onnx’\n",
            "\n",
            "resnet18_opset9.onn 100%[===================>]  44.64M  43.2MB/s    in 1.0s    \n",
            "\n",
            "2023-10-02 11:23:01 (43.2 MB/s) - ‘resnet18_opset9.onnx’ saved [46808064/46808064]\n",
            "\n"
          ]
        }
      ]
    },
    {
      "cell_type": "code",
      "source": [
        "!echo \"perfSimConfig = /content/tidl_tools/device_config.cfg\" >> /content/tidl_tools/config"
      ],
      "metadata": {
        "id": "rfWwYzBrPDHI"
      },
      "execution_count": 10,
      "outputs": []
    },
    {
      "cell_type": "code",
      "source": [
        "!cat /content/tidl_tools/config"
      ],
      "metadata": {
        "id": "TP-XpftIPQ5z",
        "outputId": "f0edb232-76f4-4a08-bb91-f08c64506af6",
        "colab": {
          "base_uri": "https://localhost:8080/"
        }
      },
      "execution_count": 11,
      "outputs": [
        {
          "output_type": "stream",
          "name": "stdout",
          "text": [
            "perfSimConfig = /content/tidl_tools/device_config.cfg\n"
          ]
        }
      ]
    },
    {
      "cell_type": "code",
      "source": [
        "!/content/tidl_tools/tidl_model_import.out /content/tidl_tools/config --modelType 2 \\\n",
        "--inputNetFile /content/resnet18_opset9.onnx --outputNetFile /content/resnet18_tidl_net.bin \\\n",
        "--outputParamsFile /content/resnet18_tidl_io_buff  --inDataNorm 1 \\\n",
        "--inMean 123.675 116.28 103.53  --inScale 0.017125 0.017507 0.017429 \\\n",
        "--inData /content/jet.jpeg --inFileFormat 0 \\\n",
        "--tidlStatsTool /content/tidl_tools/PC_dsp_test_dl_algo.out \\\n",
        "--perfSimTool /content/tidl_tools/ti_cnnperfsim.out \\\n",
        "--graphVizTool /content/tidl_tools/tidl_graphVisualiser.out \\\n",
        "--inHeight 224 --inWidth 224 --inNumChannels 3\n"
      ],
      "metadata": {
        "colab": {
          "base_uri": "https://localhost:8080/"
        },
        "id": "fgDkbie4IKt8",
        "outputId": "2fe8f280-dffa-489c-d980-83da3621cb2f"
      },
      "execution_count": 16,
      "outputs": [
        {
          "output_type": "stream",
          "name": "stdout",
          "text": [
            "ONNX Model (Proto) File  : /content/resnet18_opset9.onnx  \n",
            "TIDL Network File      : /content/resnet18_tidl_net.bin  \n",
            "TIDL IO Info File      : /content/resnet18_tidl_io_buff  \n",
            "Current ONNX OpSet Version   : 9  \n",
            "Empty prototxt path, running calibration\n",
            "\n",
            "~~~~~Running TIDL in PC emulation mode to collect Activations range for each layer~~~~~\n",
            "\n",
            "Processing config file #0 : /content/config.qunat_stats_config.txt \n",
            " Freeing memory for user provided Net\n",
            " ----------------------- TIDL Process with REF_ONLY FLOW ------------------------\n",
            "\n",
            "#    0 . .. T    6923.43  .... ..... ... .... .....\n",
            " \n",
            " \n",
            " *****************   Calibration iteration number 0 started ************************ \n",
            " \n",
            " \n",
            " \n",
            "\n",
            "~~~~~Running TIDL in PC emulation mode to collect Activations range for each layer~~~~~\n",
            "\n",
            "Processing config file #0 : /content/config.qunat_stats_config.txt \n",
            " Freeing memory for user provided Net\n",
            " ----------------------- TIDL Process with REF_ONLY FLOW ------------------------\n",
            "\n",
            "#    0 . .. T    5063.83  .... ..... ... .... .....\n",
            " \n",
            " \n",
            " *****************   Calibration iteration number 0 completed ************************ \n",
            " \n",
            " \n",
            " \n",
            "\n",
            "------------------ Network Compiler Traces -----------------------------\n",
            "successful Memory allocation\n",
            "****************************************************\n",
            "**                ALL MODEL CHECK PASSED          **\n",
            "****************************************************\n",
            "\n"
          ]
        }
      ]
    }
  ]
}