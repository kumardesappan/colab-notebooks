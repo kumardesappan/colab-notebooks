{
  "nbformat": 4,
  "nbformat_minor": 0,
  "metadata": {
    "colab": {
      "name": "Infer-tflite.ipynb",
      "provenance": [],
      "authorship_tag": "ABX9TyNf1WBstkD2hLHeD+xjRoPx",
      "include_colab_link": true
    },
    "kernelspec": {
      "name": "python3",
      "display_name": "Python 3"
    }
  },
  "cells": [
    {
      "cell_type": "markdown",
      "metadata": {
        "id": "view-in-github",
        "colab_type": "text"
      },
      "source": [
        "<a href=\"https://colab.research.google.com/github/kumardesappan/colab-notebooks/blob/main/infer_tflite.ipynb\" target=\"_parent\"><img src=\"https://colab.research.google.com/assets/colab-badge.svg\" alt=\"Open In Colab\"/></a>"
      ]
    },
    {
      "cell_type": "code",
      "metadata": {
        "id": "RRlwdlGzUumd"
      },
      "source": [
        "!wget https://akm-img-a-in.tosshub.com/indiatoday/images/story/201804/jet.jpeg\n",
        "!wget https://tfhub.dev/tensorflow/lite-model/efficientnet/lite0/fp32/2?lite-format=tflite\n",
        "!mv /content/2?lite-format=tflite efficientnet-lit0.tflite\n",
        "!pip3 install tflite_runtime==2.8.0"
      ],
      "execution_count": null,
      "outputs": []
    },
    {
      "cell_type": "code",
      "metadata": {
        "id": "WsDWsaQKTTm3",
        "colab": {
          "base_uri": "https://localhost:8080/"
        },
        "outputId": "78362827-b934-464b-9e87-23f15a19c36d"
      },
      "source": [
        "import math\n",
        "#import tensorflow.lite as tflite\n",
        "import tflite_runtime.interpreter as tflite\n",
        "\n",
        "import time\n",
        "import os\n",
        "import numpy as np\n",
        "import PIL\n",
        "import PIL.Image as Image\n",
        "\n",
        "import argparse\n",
        "model_path =\"./efficientnet-lit0.tflite\"\n",
        "input_file =\"jet.jpeg\"\n",
        "\n",
        "input_mean =127.5\n",
        "input_std  =127.5\n",
        "\n",
        "        \n",
        "\n",
        "def infer_tflite_model():\n",
        "\n",
        "  interpreter = tflite.Interpreter(model_path=model_path)\n",
        "  interpreter.allocate_tensors()\n",
        "    \n",
        "  input_details = interpreter.get_input_details()\n",
        "  output_details = interpreter.get_output_details()\n",
        "\n",
        "  print(output_details)\n",
        "\n",
        "  # check the type of the input tensor\n",
        "  floating_model = input_details[0]['dtype'] == np.float32\n",
        "\n",
        "  # NxHxWxC, H:1, W:2\n",
        "  height = input_details[0]['shape'][1]\n",
        "  width = input_details[0]['shape'][2]\n",
        "  img = Image.open(input_file).resize((width, height))\n",
        "\n",
        "  # add N dim\n",
        "  input_data = np.expand_dims(img, axis=0)\n",
        "\n",
        "  if floating_model:\n",
        "    input_data = (np.float32(input_data) - input_mean) / input_std\n",
        "\n",
        "  interpreter.set_tensor(input_details[0]['index'], input_data)\n",
        "\n",
        "  interpreter.invoke()\n",
        "\n",
        "  output_data = interpreter.get_tensor(output_details[0]['index'])\n",
        "  results = np.squeeze(output_data)\n",
        "\n",
        "  top_k = results.argsort()[-5:][::-1]\n",
        "  print(top_k)\n",
        "\n",
        "                                       \n",
        "infer_tflite_model()\n",
        "\n"
      ],
      "execution_count": 3,
      "outputs": [
        {
          "output_type": "stream",
          "name": "stdout",
          "text": [
            "[{'name': 'Softmax', 'index': 163, 'shape': array([   1, 1000], dtype=int32), 'shape_signature': array([   1, 1000], dtype=int32), 'dtype': <class 'numpy.float32'>, 'quantization': (0.0, 0), 'quantization_parameters': {'scales': array([], dtype=float32), 'zero_points': array([], dtype=int32), 'quantized_dimension': 0}, 'sparsity_parameters': {}}]\n",
            "[895 403 744 657  51]\n"
          ]
        }
      ]
    }
  ]
}