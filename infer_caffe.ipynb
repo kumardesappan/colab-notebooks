{
  "nbformat": 4,
  "nbformat_minor": 0,
  "metadata": {
    "colab": {
      "name": "caffe_infer.ipynb",
      "provenance": [],
      "collapsed_sections": [],
      "authorship_tag": "ABX9TyMS+ROK2cc7rI6ZejUkbxjV",
      "include_colab_link": true
    },
    "kernelspec": {
      "name": "python3",
      "display_name": "Python 3"
    }
  },
  "cells": [
    {
      "cell_type": "markdown",
      "metadata": {
        "id": "view-in-github",
        "colab_type": "text"
      },
      "source": [
        "<a href=\"https://colab.research.google.com/github/kumardesappan/colab-notebooks/blob/main/caffe_infer.ipynb\" target=\"_parent\"><img src=\"https://colab.research.google.com/assets/colab-badge.svg\" alt=\"Open In Colab\"/></a>"
      ]
    },
    {
      "cell_type": "code",
      "metadata": {
        "id": "iFfQkZxEko4D"
      },
      "source": [
        "!sudo apt install caffe-cpu\n"
      ],
      "execution_count": null,
      "outputs": []
    },
    {
      "cell_type": "code",
      "metadata": {
        "id": "qUpWbUBWmVEH"
      },
      "source": [
        "!wget https://github.com/shicai/MobileNet-Caffe/raw/master/mobilenet.caffemodel"
      ],
      "execution_count": null,
      "outputs": []
    },
    {
      "cell_type": "code",
      "metadata": {
        "id": "t80caRujm98_"
      },
      "source": [
        "!wget https://raw.githubusercontent.com/shicai/MobileNet-Caffe/master/mobilenet_deploy.prototxt\n",
        "!wget https://akm-img-a-in.tosshub.com/indiatoday/images/story/201804/jet.jpeg"
      ],
      "execution_count": null,
      "outputs": []
    },
    {
      "cell_type": "code",
      "metadata": {
        "id": "SnTP_3VYohE9",
        "colab": {
          "base_uri": "https://localhost:8080/",
          "height": 68
        },
        "outputId": "4871106d-11b3-40db-8f62-ac9918072b6e"
      },
      "source": [
        "import os\n",
        "import os.path\n",
        "import time\n",
        "import sys\n",
        "import ntpath\n",
        "import caffe\n",
        "caffe.set_mode_cpu()\n",
        "from caffe.proto import caffe_pb2\n",
        "import cv2\n",
        "import numpy as np\n",
        "import math\n",
        "import string\n",
        "from google.protobuf import text_format\n",
        "\n",
        "\n",
        "model_path = \"mobilenet_deploy.prototxt\"\n",
        "pretrained_path = \"mobilenet.caffemodel\"\n",
        "input_name = \"jet.jpeg\"\n",
        "\n",
        "\n",
        "\n",
        "\n",
        "\n",
        "def writeNPAryAsRaw(ipFrame, fileName, opDataType=np.float32, opScale=1):\n",
        "    if opDataType != np.float32:\n",
        "        qFrame = np.rint(ipFrame * opScale)\n",
        "    else:\n",
        "        qFrame = ipFrame\n",
        "            \n",
        "    fileHandle = open(fileName, 'wb')\n",
        "    ip1DAry = np.reshape(qFrame, (1, np.prod(qFrame.shape)))\n",
        "    ip1DAry = ip1DAry.astype(opDataType)\n",
        "    fileHandle.write(ip1DAry)\n",
        "    fileHandle.close()\n",
        "       \n",
        "def predict(model_path, pretrained_path, image, frameNum, blobs=None):\n",
        "    net = caffe.Net(model_path, pretrained_path, caffe.TEST)\n",
        "    #model = type('', (), {})()\n",
        "    #model.net = net\n",
        "\n",
        "    input_dims = net.blobs['data'].shape\n",
        "    #output_dims = net.blobs['prob'].shape\n",
        "\n",
        "    #label_margin = config.MARGIN\n",
        "    print (\"input dim from desc\", input_dims[2], input_dims[3])\n",
        "    #print (\"output_dim from desc\", output_dims[2], output_dims[3])\n",
        "\n",
        "    batch_size, num_channels, input_height, input_width = input_dims\n",
        "    caffe_in = np.zeros(input_dims, dtype=np.float32)\n",
        "\n",
        "    caffe_in[0] = image.transpose([2, 0, 1])\n",
        "    out_blobs = net.forward_all(blobs, **{net.inputs[0]: caffe_in})\n",
        "    \n",
        "    return out_blobs, net\n",
        "\n",
        "def getLayerByName(net_proto, layer_name):\n",
        "    for layer in net_proto.layer:\n",
        "       if layer.name == layer_name:\n",
        "          return layer\n",
        "    return None\n",
        "    \n",
        "\n",
        "caffe.set_mode_cpu()\n",
        "mean_pixel = [103.94,116.78,123.68]\n",
        "num = 0\n",
        "use_cur_scale = True \n",
        "\n",
        "net_proto = caffe_pb2.NetParameter()\n",
        "text_format.Merge(open(model_path).read(), net_proto)\n",
        "\n",
        "# moved image reading out from predict()\n",
        "image = cv2.imread(input_name, 1);\n",
        "image = cv2.resize(image, (224, 224))\n",
        "\n",
        "image = image.astype(np.float32)- mean_pixel\n",
        "image = image*0.017\n",
        "blob_names =['prob']\n",
        "\n",
        "out_blobs, net = predict(model_path, pretrained_path, image, num, blobs=blob_names)\n",
        "\n",
        "dataOut = out_blobs['prob']\n",
        "print(dataOut.shape)\n",
        "argIndex = np.argsort(np.squeeze(dataOut))[::-1][:10]\n",
        "print(argIndex)"
      ],
      "execution_count": null,
      "outputs": [
        {
          "output_type": "stream",
          "text": [
            "input dim from desc 224 224\n",
            "(1, 1000, 1, 1)\n",
            "[403 895 744 657 913 833 812 908  51 755]\n"
          ],
          "name": "stdout"
        }
      ]
    }
  ]
}
