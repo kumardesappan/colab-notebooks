{
  "nbformat": 4,
  "nbformat_minor": 0,
  "metadata": {
    "colab": {
      "name": "tflite_model_scratch.ipynb",
      "provenance": [],
      "collapsed_sections": [],
      "authorship_tag": "ABX9TyN28h0Jci9ugptY7CmiEAcs",
      "include_colab_link": true
    },
    "kernelspec": {
      "name": "python3",
      "display_name": "Python 3"
    }
  },
  "cells": [
    {
      "cell_type": "markdown",
      "metadata": {
        "id": "view-in-github",
        "colab_type": "text"
      },
      "source": [
        "<a href=\"https://colab.research.google.com/github/kumardesappan/colab-notebooks/blob/main/create_tflite_model.ipynb\" target=\"_parent\"><img src=\"https://colab.research.google.com/assets/colab-badge.svg\" alt=\"Open In Colab\"/></a>"
      ]
    },
    {
      "cell_type": "code",
      "metadata": {
        "id": "UJTBnnMttTfQ",
        "colab": {
          "base_uri": "https://localhost:8080/",
          "height": 51
        },
        "outputId": "e704e6d6-5e0c-41b9-e22c-dedecb79ed85"
      },
      "source": [
        "import tensorflow as tf\n",
        "print (tf.__version__)\n",
        "\n",
        "inputs = tf.keras.layers.Input(shape=[128, 256, 3])\n",
        "\n",
        "\n",
        "scale  = 8\n",
        "name = 'pixel_shuffle_'+str(scale)+'x_.tflite'\n",
        "\n",
        "\n",
        "conv = tf.keras.layers.Conv2D(256, (1,1), strides=(1, 1), padding='valid',\n",
        "                kernel_initializer=tf.random_uniform_initializer(),\n",
        "                bias_initializer=tf.random_uniform_initializer())\n",
        "bn = tf.keras.layers.BatchNormalization(moving_mean_initializer=tf.constant_initializer(value=128), \n",
        "                                      moving_variance_initializer=tf.constant_initializer( value=0.12))\n",
        "x = conv(inputs)\n",
        "x = tf.nn.depth_to_space(x, block_size=scale)\n",
        "y = bn(x)\n",
        "\n",
        "\n",
        "model = tf.keras.Model(inputs=inputs, outputs=y)\n",
        "\n",
        "converter = tf.lite.TFLiteConverter.from_keras_model(model)\n",
        "tflite_model = converter.convert()\n",
        "open(name, \"wb\").write(tflite_model)\n"
      ],
      "execution_count": null,
      "outputs": [
        {
          "output_type": "stream",
          "text": [
            "2.2.0\n"
          ],
          "name": "stdout"
        },
        {
          "output_type": "execute_result",
          "data": {
            "text/plain": [
              "5444"
            ]
          },
          "metadata": {
            "tags": []
          },
          "execution_count": 6
        }
      ]
    }
  ]
}
