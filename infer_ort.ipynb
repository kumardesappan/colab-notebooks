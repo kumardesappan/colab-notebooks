{
  "nbformat": 4,
  "nbformat_minor": 0,
  "metadata": {
    "colab": {
      "name": "infer_ort.ipynb",
      "provenance": [],
      "authorship_tag": "ABX9TyOwCBulhK7VrpOZvHO85z/w",
      "include_colab_link": true
    },
    "kernelspec": {
      "name": "python3",
      "display_name": "Python 3"
    },
    "accelerator": "GPU"
  },
  "cells": [
    {
      "cell_type": "markdown",
      "metadata": {
        "id": "view-in-github",
        "colab_type": "text"
      },
      "source": [
        "<a href=\"https://colab.research.google.com/github/kumardesappan/colab-notebooks/blob/main/infer_ort.ipynb\" target=\"_parent\"><img src=\"https://colab.research.google.com/assets/colab-badge.svg\" alt=\"Open In Colab\"/></a>"
      ]
    },
    {
      "cell_type": "code",
      "metadata": {
        "id": "tsPipOjCU0_S"
      },
      "source": [
        "!pip install onnxruntime==1.17.0\n",
        "!wget https://akm-img-a-in.tosshub.com/indiatoday/images/story/201804/jet.jpeg\n",
        "!wget https://github.com/onnx/models/blob/1008b6e9450ab632538390e38e0ab28b3f207fbc/vision/classification/squeezenet/model/squeezenet1.1-7.onnx?raw=true\n",
        "!mv squeezenet1.1-7.onnx?raw=true squeezenet1.1-7.onnx"
      ],
      "execution_count": null,
      "outputs": []
    },
    {
      "cell_type": "code",
      "metadata": {
        "id": "dzyP9uIaPCol",
        "colab": {
          "base_uri": "https://localhost:8080/"
        },
        "outputId": "94bd87e4-b9b2-42df-8803-736b4f4caa15"
      },
      "source": [
        "import numpy as np    \n",
        "import onnxruntime    \n",
        "#import onnx\n",
        "#from onnx import helper\n",
        "from PIL import Image\n",
        "import argparse\n",
        "\n",
        "model_path = \"./squeezenet1.1-7.onnx\"\n",
        "input_file=\"./jet.jpeg\"\n",
        "\n",
        "def preprocess(input_data):\n",
        "    # convert the input data into the float32 input\n",
        "    img_data = input_data.astype('float32')\n",
        "\n",
        "    #normalize\n",
        "    mean_vec = np.array([0.485, 0.456, 0.406])\n",
        "    stddev_vec = np.array([0.229, 0.224, 0.225])\n",
        "    norm_img_data = np.zeros(img_data.shape).astype('float32')\n",
        "    for i in range(img_data.shape[0]):\n",
        "        norm_img_data[i,:,:] = (img_data[i,:,:]/255 - mean_vec[i]) / stddev_vec[i]\n",
        "        \n",
        "    #add batch channel\n",
        "    norm_img_data = norm_img_data.reshape(1, 3, 224, 224).astype('float32')\n",
        "    return norm_img_data\n",
        "\n",
        "def softmax(x):\n",
        "    x = x.reshape(-1)\n",
        "    e_x = np.exp(x - np.max(x))\n",
        "    return e_x / e_x.sum(axis=0)\n",
        "\n",
        "def postprocess(result):\n",
        "    return softmax(np.array(result)).tolist()\n",
        "\n",
        "def infer_onnx_model():\n",
        "\n",
        "  session = onnxruntime.InferenceSession(model_path, None)\n",
        "\n",
        "  # get the name of the first input of the model\n",
        "  input_name = session.get_inputs()[0].name  \n",
        "  input_details  = session.get_inputs()\n",
        "  output_details = session.get_outputs()\n",
        "  print('Num Outputs  - ', len(output_details))\n",
        "  for node in output_details: \n",
        "    print(node)   \n",
        "  print('Num Inputs   - ', len(input_details))\n",
        "  for node in input_details: \n",
        "    print(node)   \n",
        "\n",
        "  image = Image.open(input_file).resize((224, 224))\n",
        "\n",
        "  print(\"Image size: \", image.size)\n",
        "  image_data = np.array(image).transpose(2, 0, 1)\n",
        "  input_data = preprocess(image_data)\n",
        "\n",
        "  raw_result = session.run([], {input_name: input_data})\n",
        "  res = postprocess(raw_result[0])\n",
        "  res = np.array(res)\n",
        "\n",
        "  top_k = res.argsort()[-5:][::-1]\n",
        "  print(top_k)     \n",
        "                                                                       \n",
        "infer_onnx_model()\n"
      ],
      "execution_count": 7,
      "outputs": [
        {
          "output_type": "stream",
          "name": "stdout",
          "text": [
            "Num Outputs  -  1\n",
            "NodeArg(name='squeezenet0_flatten0_reshape0', type='tensor(float)', shape=[1, 1000])\n",
            "Num Inputs   -  1\n",
            "NodeArg(name='data', type='tensor(float)', shape=[1, 3, 224, 224])\n",
            "Image size:  (224, 224)\n",
            "[895 744 471 403 657]\n"
          ]
        }
      ]
    }
  ]
}