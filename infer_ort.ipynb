{
  "nbformat": 4,
  "nbformat_minor": 0,
  "metadata": {
    "colab": {
      "name": "infer_ort.ipynb",
      "provenance": [],
      "authorship_tag": "ABX9TyOFx4NC0EdZEXgBlLzLUPfq",
      "include_colab_link": true
    },
    "kernelspec": {
      "name": "python3",
      "display_name": "Python 3"
    },
    "accelerator": "GPU"
  },
  "cells": [
    {
      "cell_type": "markdown",
      "metadata": {
        "id": "view-in-github",
        "colab_type": "text"
      },
      "source": [
        "<a href=\"https://colab.research.google.com/github/kumardesappan/colab-notebooks/blob/main/infer_ort.ipynb\" target=\"_parent\"><img src=\"https://colab.research.google.com/assets/colab-badge.svg\" alt=\"Open In Colab\"/></a>"
      ]
    },
    {
      "cell_type": "code",
      "metadata": {
        "id": "tsPipOjCU0_S"
      },
      "source": [
        "!pip install onnxruntime==1.7.0\n",
        "!wget https://akm-img-a-in.tosshub.com/indiatoday/images/story/201804/jet.jpeg\n",
        "!wget https://github.com/onnx/models/blob/1008b6e9450ab632538390e38e0ab28b3f207fbc/vision/classification/squeezenet/model/squeezenet1.1-7.onnx?raw=true\n",
        "!mv squeezenet1.1-7.onnx?raw=true squeezenet1.1-7.onnx"
      ],
      "execution_count": null,
      "outputs": []
    },
    {
      "cell_type": "code",
      "metadata": {
        "id": "dzyP9uIaPCol",
        "colab": {
          "base_uri": "https://localhost:8080/"
        },
        "outputId": "509a994f-dc2d-4e03-9309-d8e09c3cfb28"
      },
      "source": [
        "import numpy as np    \n",
        "import onnxruntime    \n",
        "from PIL import Image\n",
        "\n",
        "model_path = \"./squeezenet1.1-7.onnx\"\n",
        "input_file=\"./jet.jpeg\"\n",
        "\n",
        "session = onnxruntime.InferenceSession(model_path, None)\n",
        "\n",
        "# get the name of the first input of the model\n",
        "input_name = session.get_inputs()[0].name  \n",
        "input_details  = session.get_inputs()\n",
        "output_details = session.get_outputs()\n",
        "\n",
        "#Pre-Process input\n",
        "image    = Image.open(input_file).resize((224, 224))\n",
        "img_data = np.array(image).transpose(2, 0, 1).astype('float32')\n",
        "mean_vec   = np.array([0.485, 0.456, 0.406])\n",
        "stddev_vec = np.array([0.229, 0.224, 0.225])\n",
        "norm_img_data = np.zeros(img_data.shape).astype('float32')\n",
        "for i in range(img_data.shape[0]):\n",
        "    norm_img_data[i,:,:] = (img_data[i,:,:]/255 - mean_vec[i]) / stddev_vec[i]\n",
        "input_data = norm_img_data.reshape(1, 3, 224, 224)\n",
        "\n",
        "#Run inference session\n",
        "raw_result = session.run([], {input_name: input_data})\n",
        "\n",
        "#Post Process Result\n",
        "res = np.array(raw_result[0]).reshape(-1)\n",
        "print(res.argsort()[-5:][::-1])"
      ],
      "execution_count": 2,
      "outputs": [
        {
          "output_type": "stream",
          "name": "stdout",
          "text": [
            "[895 744 471 403 657]\n"
          ]
        }
      ]
    }
  ]
}
