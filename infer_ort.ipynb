{
  "nbformat": 4,
  "nbformat_minor": 0,
  "metadata": {
    "colab": {
      "name": "infer_ort.ipynb",
      "provenance": [],
      "collapsed_sections": [],
      "authorship_tag": "ABX9TyOL9X/Y7SOF+IEzHt6bCwAA",
      "include_colab_link": true
    },
    "kernelspec": {
      "name": "python3",
      "display_name": "Python 3"
    },
    "accelerator": "GPU"
  },
  "cells": [
    {
      "cell_type": "markdown",
      "metadata": {
        "id": "view-in-github",
        "colab_type": "text"
      },
      "source": [
        "<a href=\"https://colab.research.google.com/github/kumardesappan/colab-notebooks/blob/main/infer_ort.ipynb\" target=\"_parent\"><img src=\"https://colab.research.google.com/assets/colab-badge.svg\" alt=\"Open In Colab\"/></a>"
      ]
    },
    {
      "cell_type": "code",
      "metadata": {
        "id": "tsPipOjCU0_S",
        "colab": {
          "base_uri": "https://localhost:8080/"
        },
        "outputId": "a10db788-ed9f-4ceb-d64d-358251cd7590"
      },
      "source": [
        "!pip install onnxruntime\n",
        "!wget https://akm-img-a-in.tosshub.com/indiatoday/images/story/201804/jet.jpeg\n",
        "!wget https://github.com/onnx/models/raw/master/vision/classification/squeezenet/model/squeezenet1.1-7.onnx"
      ],
      "execution_count": null,
      "outputs": [
        {
          "output_type": "stream",
          "name": "stdout",
          "text": [
            "Collecting onnxruntime\n",
            "  Downloading onnxruntime-1.10.0-cp37-cp37m-manylinux_2_17_x86_64.manylinux2014_x86_64.whl (4.9 MB)\n",
            "\u001b[K     |████████████████████████████████| 4.9 MB 5.3 MB/s \n",
            "\u001b[?25hRequirement already satisfied: protobuf in /usr/local/lib/python3.7/dist-packages (from onnxruntime) (3.17.3)\n",
            "Requirement already satisfied: numpy>=1.16.6 in /usr/local/lib/python3.7/dist-packages (from onnxruntime) (1.19.5)\n",
            "Requirement already satisfied: flatbuffers in /usr/local/lib/python3.7/dist-packages (from onnxruntime) (2.0)\n",
            "Requirement already satisfied: six>=1.9 in /usr/local/lib/python3.7/dist-packages (from protobuf->onnxruntime) (1.15.0)\n",
            "Installing collected packages: onnxruntime\n",
            "Successfully installed onnxruntime-1.10.0\n",
            "--2022-02-02 12:47:54--  https://akm-img-a-in.tosshub.com/indiatoday/images/story/201804/jet.jpeg\n",
            "Resolving akm-img-a-in.tosshub.com (akm-img-a-in.tosshub.com)... 23.202.199.54, 2600:1407:d800:194::1ac0, 2600:1407:d800:188::1ac0\n",
            "Connecting to akm-img-a-in.tosshub.com (akm-img-a-in.tosshub.com)|23.202.199.54|:443... connected.\n",
            "HTTP request sent, awaiting response... 200 OK\n",
            "Length: 30622 (30K) [image/jpeg]\n",
            "Saving to: ‘jet.jpeg’\n",
            "\n",
            "jet.jpeg            100%[===================>]  29.90K  95.4KB/s    in 0.3s    \n",
            "\n",
            "2022-02-02 12:47:57 (95.4 KB/s) - ‘jet.jpeg’ saved [30622/30622]\n",
            "\n",
            "--2022-02-02 12:47:57--  https://github.com/onnx/models/raw/master/vision/classification/squeezenet/model/squeezenet1.1-7.onnx\n",
            "Resolving github.com (github.com)... 140.82.113.4\n",
            "Connecting to github.com (github.com)|140.82.113.4|:443... connected.\n",
            "HTTP request sent, awaiting response... 302 Found\n",
            "Location: https://media.githubusercontent.com/media/onnx/models/master/vision/classification/squeezenet/model/squeezenet1.1-7.onnx [following]\n",
            "--2022-02-02 12:47:57--  https://media.githubusercontent.com/media/onnx/models/master/vision/classification/squeezenet/model/squeezenet1.1-7.onnx\n",
            "Resolving media.githubusercontent.com (media.githubusercontent.com)... 185.199.108.133, 185.199.109.133, 185.199.110.133, ...\n",
            "Connecting to media.githubusercontent.com (media.githubusercontent.com)|185.199.108.133|:443... connected.\n",
            "HTTP request sent, awaiting response... 200 OK\n",
            "Length: 4956208 (4.7M) [application/octet-stream]\n",
            "Saving to: ‘squeezenet1.1-7.onnx’\n",
            "\n",
            "squeezenet1.1-7.onn 100%[===================>]   4.73M  --.-KB/s    in 0.07s   \n",
            "\n",
            "2022-02-02 12:47:57 (66.5 MB/s) - ‘squeezenet1.1-7.onnx’ saved [4956208/4956208]\n",
            "\n"
          ]
        }
      ]
    },
    {
      "cell_type": "code",
      "metadata": {
        "id": "dzyP9uIaPCol",
        "colab": {
          "base_uri": "https://localhost:8080/"
        },
        "outputId": "d65125f2-cf4a-44df-aa37-95a7a75cd9ab"
      },
      "source": [
        "import numpy as np    \n",
        "import onnxruntime    \n",
        "#import onnx\n",
        "#from onnx import helper\n",
        "from PIL import Image\n",
        "import argparse\n",
        "\n",
        "model_path = \"./squeezenet1.1-7.onnx\"\n",
        "input_file=\"./jet.jpeg\"\n",
        "\n",
        "def preprocess(input_data):\n",
        "    # convert the input data into the float32 input\n",
        "    img_data = input_data.astype('float32')\n",
        "\n",
        "    #normalize\n",
        "    mean_vec = np.array([0.485, 0.456, 0.406])\n",
        "    stddev_vec = np.array([0.229, 0.224, 0.225])\n",
        "    norm_img_data = np.zeros(img_data.shape).astype('float32')\n",
        "    for i in range(img_data.shape[0]):\n",
        "        norm_img_data[i,:,:] = (img_data[i,:,:]/255 - mean_vec[i]) / stddev_vec[i]\n",
        "        \n",
        "    #add batch channel\n",
        "    norm_img_data = norm_img_data.reshape(1, 3, 224, 224).astype('float32')\n",
        "    return norm_img_data\n",
        "\n",
        "def softmax(x):\n",
        "    x = x.reshape(-1)\n",
        "    e_x = np.exp(x - np.max(x))\n",
        "    return e_x / e_x.sum(axis=0)\n",
        "\n",
        "def postprocess(result):\n",
        "    return softmax(np.array(result)).tolist()\n",
        "\n",
        "def infer_oonx_model():\n",
        "\n",
        "  session = onnxruntime.InferenceSession(model_path, None)\n",
        "\n",
        "  # get the name of the first input of the model\n",
        "  input_name = session.get_inputs()[0].name  \n",
        "  input_details  = session.get_inputs()\n",
        "  output_details = session.get_outputs()\n",
        "  print('Num Outputs  - ', len(output_details))\n",
        "  for node in output_details: \n",
        "    print(node)   \n",
        "  print('Num Inputs   - ', len(input_details))\n",
        "  for node in input_details: \n",
        "    print(node)   \n",
        "\n",
        "  image = Image.open(input_file).resize((224, 224))\n",
        "\n",
        "  print(\"Image size: \", image.size)\n",
        "  image_data = np.array(image).transpose(2, 0, 1)\n",
        "  input_data = preprocess(image_data)\n",
        "\n",
        "  raw_result = session.run([], {input_name: input_data})\n",
        "  res = postprocess(raw_result[0])\n",
        "  res = np.array(res)\n",
        "\n",
        "  top_k = res.argsort()[-5:][::-1]\n",
        "  print(top_k)     \n",
        "                                                                       \n",
        "infer_oonx_model()\n"
      ],
      "execution_count": null,
      "outputs": [
        {
          "output_type": "stream",
          "name": "stdout",
          "text": [
            "Num Outputs  -  1\n",
            "NodeArg(name='536', type='tensor(float)', shape=[1, 1000])\n",
            "Num Inputs   -  1\n",
            "NodeArg(name='input.1', type='tensor(float)', shape=[1, 3, 224, 224])\n",
            "Image size:  (224, 224)\n",
            "[403 895 744 908 657]\n"
          ]
        }
      ]
    }
  ]
}