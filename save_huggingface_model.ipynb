{
  "nbformat": 4,
  "nbformat_minor": 0,
  "metadata": {
    "colab": {
      "name": "save_huggingface_model.ipynb",
      "provenance": [],
      "authorship_tag": "ABX9TyM1D1R+alMKtcKnwC2WPgR9",
      "include_colab_link": true
    },
    "kernelspec": {
      "name": "python3",
      "display_name": "Python 3"
    },
    "language_info": {
      "name": "python"
    }
  },
  "cells": [
    {
      "cell_type": "markdown",
      "metadata": {
        "id": "view-in-github",
        "colab_type": "text"
      },
      "source": [
        "<a href=\"https://colab.research.google.com/github/kumardesappan/colab-notebooks/blob/main/save_huggingface_model.ipynb\" target=\"_parent\"><img src=\"https://colab.research.google.com/assets/colab-badge.svg\" alt=\"Open In Colab\"/></a>"
      ]
    },
    {
      "cell_type": "code",
      "execution_count": null,
      "metadata": {
        "id": "361TDR5eWLt_"
      },
      "outputs": [],
      "source": [
        "!pip install transformers\n",
        "!pip install timm\n",
        "!pip3 install onnx-simplifier\n",
        "\n",
        "from transformers import DetrFeatureExtractor, DetrForObjectDetection\n",
        "from PIL import Image\n",
        "import requests\n",
        "import torch\n",
        "import torch.onnx\n",
        "\n",
        "url = 'http://images.cocodataset.org/val2017/000000039769.jpg'\n",
        "image = Image.open(requests.get(url, stream=True).raw)\n",
        "\n",
        "feature_extractor = DetrFeatureExtractor.from_pretrained('facebook/detr-resnet-50')\n",
        "model = DetrForObjectDetection.from_pretrained('facebook/detr-resnet-50')\n",
        "\n",
        "inputs = feature_extractor(images=image, return_tensors=\"pt\")\n",
        "outputs = model(**inputs)\n",
        "\n",
        "# model predicts bounding boxes and corresponding COCO classes\n",
        "logits = outputs.logits\n",
        "bboxes = outputs.pred_boxes\n",
        "\n",
        "print(logits, bboxes)\n",
        "\n",
        "name = 'detr_resnet-50.onnx'\n",
        "inputs['pixel_mask'].shape\n",
        "dummy_input = torch.ones(1, 3, 800, 1066, dtype=torch.float)\n",
        "torch.onnx.export(model, dummy_input, name, verbose=True,opset_version=11)\n",
        "!python3 -m onnxsim 'detr_resnet-50.onnx' 'detr_resnet-50-simplified.onnx'"
      ]
    }
  ]
}