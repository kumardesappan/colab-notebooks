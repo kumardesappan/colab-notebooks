{
  "nbformat": 4,
  "nbformat_minor": 0,
  "metadata": {
    "colab": {
      "name": "save_keras_model.ipynb",
      "provenance": [],
      "authorship_tag": "ABX9TyOo2HvlQkJphgJ7aK2uWYxN",
      "include_colab_link": true
    },
    "kernelspec": {
      "name": "python3",
      "display_name": "Python 3"
    },
    "language_info": {
      "name": "python"
    }
  },
  "cells": [
    {
      "cell_type": "markdown",
      "metadata": {
        "id": "view-in-github",
        "colab_type": "text"
      },
      "source": [
        "<a href=\"https://colab.research.google.com/github/kumardesappan/colab-notebooks/blob/main/save_keras_model.ipynb\" target=\"_parent\"><img src=\"https://colab.research.google.com/assets/colab-badge.svg\" alt=\"Open In Colab\"/></a>"
      ]
    },
    {
      "cell_type": "code",
      "execution_count": null,
      "metadata": {
        "colab": {
          "base_uri": "https://localhost:8080/"
        },
        "id": "BoUwK5VFVIz7",
        "outputId": "71f84d73-ee84-4544-deb8-ed324974a363"
      },
      "outputs": [
        {
          "output_type": "stream",
          "name": "stdout",
          "text": [
            "INFO:tensorflow:Assets written to: /tmp/tmppoc_4vrg/assets\n"
          ]
        },
        {
          "output_type": "stream",
          "name": "stderr",
          "text": [
            "INFO:tensorflow:Assets written to: /tmp/tmppoc_4vrg/assets\n",
            "WARNING:absl:Buffer deduplication procedure will be skipped when flatbuffer library is not properly loaded\n"
          ]
        }
      ],
      "source": [
        "import tensorflow as tf\n",
        "\n",
        "in_image = tf.keras.Input(shape=(224,224,3), batch_size=4)\n",
        "\n",
        "model = tf.keras.applications.mobilenet_v2.MobileNetV2(weights='imagenet', input_tensor=in_image, include_top=True)\n",
        "converter = tf.lite.TFLiteConverter.from_keras_model(model)\n",
        "converter.allow_custom_ops = True\n",
        "tflite_model = converter.convert()\n",
        "with open(\"model_1.tflite\", \"wb\") as f:\n",
        "    f.write(tflite_model)"
      ]
    }
  ]
}