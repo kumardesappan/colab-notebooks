{
  "nbformat": 4,
  "nbformat_minor": 0,
  "metadata": {
    "colab": {
      "name": "infer_ort.ipynb",
      "provenance": [],
      "include_colab_link": true
    },
    "kernelspec": {
      "name": "python3",
      "display_name": "Python 3"
    },
    "accelerator": "GPU"
  },
  "cells": [
    {
      "cell_type": "markdown",
      "metadata": {
        "id": "view-in-github",
        "colab_type": "text"
      },
      "source": [
        "<a href=\"https://colab.research.google.com/github/kumardesappan/colab-notebooks/blob/main/onnx_mac_count.ipynb\" target=\"_parent\"><img src=\"https://colab.research.google.com/assets/colab-badge.svg\" alt=\"Open In Colab\"/></a>"
      ]
    },
    {
      "cell_type": "code",
      "metadata": {
        "id": "tsPipOjCU0_S"
      },
      "source": [
        "!wget https://github.com/onnx/models/blob/1008b6e9450ab632538390e38e0ab28b3f207fbc/vision/classification/squeezenet/model/squeezenet1.1-7.onnx?raw=true\n",
        "!mv squeezenet1.1-7.onnx?raw=true squeezenet1.1-7.onnx\n",
        "!pip install onnx-tool"
      ],
      "execution_count": null,
      "outputs": []
    },
    {
      "cell_type": "code",
      "source": [
        "import onnx_tool\n",
        "modelpath = './squeezenet1.1-7.onnx'\n",
        "onnx_tool.model_profile(modelpath, None, None) #pass file name"
      ],
      "metadata": {
        "id": "2WamPgRQ3Lte",
        "outputId": "f8a4a9a3-04ad-499c-8d74-54fa3f82f71d",
        "colab": {
          "base_uri": "https://localhost:8080/"
        }
      },
      "execution_count": 12,
      "outputs": [
        {
          "output_type": "stream",
          "name": "stdout",
          "text": [
            "Name                      Type         Forward_MACs    FPercent    Memory      MPercent    Params     PPercent    InShape       OutShape\n",
            "------------------------  -----------  --------------  ----------  ----------  ----------  ---------  ----------  ------------  ------------\n",
            "squeezenet0_conv0_fwd     Conv         22,079,232      6.18%       3,161,344   9.54%       1,792      0.15%       1x3x224x224   1x64x111x111\n",
            "squeezenet0_relu0_fwd     Relu         788,544         0.22%       3,154,176   9.52%       0          0.00%       1x64x111x111  1x64x111x111\n",
            "squeezenet0_pool0_fwd     MaxPool      1,742,400       0.49%       774,400     2.34%       0          0.00%       1x64x111x111  1x64x55x55\n",
            "squeezenet0_conv1_fwd     Conv         3,146,000       0.88%       197,760     0.60%       1,040      0.08%       1x64x55x55    1x16x55x55\n",
            "squeezenet0_relu1_fwd     Relu         48,400          0.01%       193,600     0.58%       0          0.00%       1x16x55x55    1x16x55x55\n",
            "squeezenet0_conv2_fwd     Conv         3,291,200       0.92%       778,752     2.35%       1,088      0.09%       1x16x55x55    1x64x55x55\n",
            "squeezenet0_conv3_fwd     Conv         28,072,000      7.85%       811,520     2.45%       9,280      0.75%       1x16x55x55    1x64x55x55\n",
            "squeezenet0_relu2_fwd     Relu         193,600         0.05%       774,400     2.34%       0          0.00%       1x64x55x55    1x64x55x55\n",
            "squeezenet0_relu3_fwd     Relu         193,600         0.05%       774,400     2.34%       0          0.00%       1x64x55x55    1x64x55x55\n",
            "squeezenet0_conv4_fwd     Conv         6,243,600       1.75%       201,856     0.61%       2,064      0.17%       1x128x55x55   1x16x55x55\n",
            "squeezenet0_relu4_fwd     Relu         48,400          0.01%       193,600     0.58%       0          0.00%       1x16x55x55    1x16x55x55\n",
            "squeezenet0_conv5_fwd     Conv         3,291,200       0.92%       778,752     2.35%       1,088      0.09%       1x16x55x55    1x64x55x55\n",
            "squeezenet0_conv6_fwd     Conv         28,072,000      7.85%       811,520     2.45%       9,280      0.75%       1x16x55x55    1x64x55x55\n",
            "squeezenet0_relu5_fwd     Relu         193,600         0.05%       774,400     2.34%       0          0.00%       1x64x55x55    1x64x55x55\n",
            "squeezenet0_relu6_fwd     Relu         193,600         0.05%       774,400     2.34%       0          0.00%       1x64x55x55    1x64x55x55\n",
            "squeezenet0_pool1_fwd     MaxPool      839,808         0.23%       373,248     1.13%       0          0.00%       1x128x55x55   1x128x27x27\n",
            "squeezenet0_conv7_fwd     Conv         3,009,312       0.84%       109,824     0.33%       4,128      0.33%       1x128x27x27   1x32x27x27\n",
            "squeezenet0_relu7_fwd     Relu         23,328          0.01%       93,312      0.28%       0          0.00%       1x32x27x27    1x32x27x27\n",
            "squeezenet0_conv8_fwd     Conv         3,079,296       0.86%       390,144     1.18%       4,224      0.34%       1x32x27x27    1x128x27x27\n",
            "squeezenet0_conv9_fwd     Conv         26,967,168      7.54%       521,216     1.57%       36,992     2.99%       1x32x27x27    1x128x27x27\n",
            "squeezenet0_relu8_fwd     Relu         93,312          0.03%       373,248     1.13%       0          0.00%       1x128x27x27   1x128x27x27\n",
            "squeezenet0_relu9_fwd     Relu         93,312          0.03%       373,248     1.13%       0          0.00%       1x128x27x27   1x128x27x27\n",
            "squeezenet0_conv10_fwd    Conv         5,995,296       1.68%       126,208     0.38%       8,224      0.67%       1x256x27x27   1x32x27x27\n",
            "squeezenet0_relu10_fwd    Relu         23,328          0.01%       93,312      0.28%       0          0.00%       1x32x27x27    1x32x27x27\n",
            "squeezenet0_conv11_fwd    Conv         3,079,296       0.86%       390,144     1.18%       4,224      0.34%       1x32x27x27    1x128x27x27\n",
            "squeezenet0_conv12_fwd    Conv         26,967,168      7.54%       521,216     1.57%       36,992     2.99%       1x32x27x27    1x128x27x27\n",
            "squeezenet0_relu11_fwd    Relu         93,312          0.03%       373,248     1.13%       0          0.00%       1x128x27x27   1x128x27x27\n",
            "squeezenet0_relu12_fwd    Relu         93,312          0.03%       373,248     1.13%       0          0.00%       1x128x27x27   1x128x27x27\n",
            "squeezenet0_pool2_fwd     MaxPool      389,376         0.11%       173,056     0.52%       0          0.00%       1x256x27x27   1x256x13x13\n",
            "squeezenet0_conv13_fwd    Conv         2,084,784       0.58%       81,792      0.25%       12,336     1.00%       1x256x13x13   1x48x13x13\n",
            "squeezenet0_relu13_fwd    Relu         8,112           0.00%       32,448      0.10%       0          0.00%       1x48x13x13    1x48x13x13\n",
            "squeezenet0_conv14_fwd    Conv         1,589,952       0.44%       167,424     0.51%       9,408      0.76%       1x48x13x13    1x192x13x13\n",
            "squeezenet0_conv15_fwd    Conv         14,049,984      3.93%       462,336     1.40%       83,136     6.73%       1x48x13x13    1x192x13x13\n",
            "squeezenet0_relu14_fwd    Relu         32,448          0.01%       129,792     0.39%       0          0.00%       1x192x13x13   1x192x13x13\n",
            "squeezenet0_relu15_fwd    Relu         32,448          0.01%       129,792     0.39%       0          0.00%       1x192x13x13   1x192x13x13\n",
            "squeezenet0_conv16_fwd    Conv         3,123,120       0.87%       106,368     0.32%       18,480     1.50%       1x384x13x13   1x48x13x13\n",
            "squeezenet0_relu16_fwd    Relu         8,112           0.00%       32,448      0.10%       0          0.00%       1x48x13x13    1x48x13x13\n",
            "squeezenet0_conv17_fwd    Conv         1,589,952       0.44%       167,424     0.51%       9,408      0.76%       1x48x13x13    1x192x13x13\n",
            "squeezenet0_conv18_fwd    Conv         14,049,984      3.93%       462,336     1.40%       83,136     6.73%       1x48x13x13    1x192x13x13\n",
            "squeezenet0_relu17_fwd    Relu         32,448          0.01%       129,792     0.39%       0          0.00%       1x192x13x13   1x192x13x13\n",
            "squeezenet0_relu18_fwd    Relu         32,448          0.01%       129,792     0.39%       0          0.00%       1x192x13x13   1x192x13x13\n",
            "squeezenet0_conv19_fwd    Conv         4,164,160       1.16%       141,824     0.43%       24,640     1.99%       1x384x13x13   1x64x13x13\n",
            "squeezenet0_relu19_fwd    Relu         10,816          0.00%       43,264      0.13%       0          0.00%       1x64x13x13    1x64x13x13\n",
            "squeezenet0_conv20_fwd    Conv         2,812,160       0.79%       239,616     0.72%       16,640     1.35%       1x64x13x13    1x256x13x13\n",
            "squeezenet0_conv21_fwd    Conv         24,963,328      6.98%       763,904     2.31%       147,712    11.96%      1x64x13x13    1x256x13x13\n",
            "squeezenet0_relu20_fwd    Relu         43,264          0.01%       173,056     0.52%       0          0.00%       1x256x13x13   1x256x13x13\n",
            "squeezenet0_relu21_fwd    Relu         43,264          0.01%       173,056     0.52%       0          0.00%       1x256x13x13   1x256x13x13\n",
            "squeezenet0_conv22_fwd    Conv         5,548,608       1.55%       174,592     0.53%       32,832     2.66%       1x512x13x13   1x64x13x13\n",
            "squeezenet0_relu22_fwd    Relu         10,816          0.00%       43,264      0.13%       0          0.00%       1x64x13x13    1x64x13x13\n",
            "squeezenet0_conv23_fwd    Conv         2,812,160       0.79%       239,616     0.72%       16,640     1.35%       1x64x13x13    1x256x13x13\n",
            "squeezenet0_conv24_fwd    Conv         24,963,328      6.98%       763,904     2.31%       147,712    11.96%      1x64x13x13    1x256x13x13\n",
            "squeezenet0_relu23_fwd    Relu         43,264          0.01%       173,056     0.52%       0          0.00%       1x256x13x13   1x256x13x13\n",
            "squeezenet0_relu24_fwd    Relu         43,264          0.01%       173,056     0.52%       0          0.00%       1x256x13x13   1x256x13x13\n",
            "squeezenet0_dropout0_fwd  Dropout      0               0.00%       346,112     1.04%       0          0.00%       1x512x13x13   1x512x13x13\n",
            "squeezenet0_conv25_fwd    Conv         86,697,000      24.25%      2,728,000   8.23%       513,000    41.52%      1x512x13x13   1x1000x13x13\n",
            "squeezenet0_relu25_fwd    Relu         169,000         0.05%       676,000     2.04%       0          0.00%       1x1000x13x13  1x1000x13x13\n",
            "squeezenet0_pool3_fwd     AveragePool  169,000         0.05%       4,000       0.01%       0          0.00%       1x1000x13x13  1x1000x1x1\n",
            "Total                     _            357,471,224     100%        33,133,616  100%        1,235,498  100%        _             _\n"
          ]
        }
      ]
    }
  ]
}