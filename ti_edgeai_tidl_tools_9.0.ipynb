{
  "nbformat": 4,
  "nbformat_minor": 0,
  "metadata": {
    "colab": {
      "provenance": [],
      "authorship_tag": "ABX9TyNPObqw3bbahdpIIwIDcay1",
      "include_colab_link": true
    },
    "kernelspec": {
      "name": "python3",
      "display_name": "Python 3"
    },
    "language_info": {
      "name": "python"
    }
  },
  "cells": [
    {
      "cell_type": "markdown",
      "metadata": {
        "id": "view-in-github",
        "colab_type": "text"
      },
      "source": [
        "<a href=\"https://colab.research.google.com/github/kumardesappan/colab-notebooks/blob/main/ti_edgeai_tidl_tools_9.0.ipynb\" target=\"_parent\"><img src=\"https://colab.research.google.com/assets/colab-badge.svg\" alt=\"Open In Colab\"/></a>"
      ]
    },
    {
      "cell_type": "code",
      "execution_count": null,
      "metadata": {
        "id": "0m9iB85BtM1J"
      },
      "outputs": [],
      "source": [
        "!git clone --single-branch --depth 1 --branch 09_00_00_06 https://github.com/TexasInstruments/edgeai-tidl-tools.git"
      ]
    },
    {
      "cell_type": "markdown",
      "source": [
        "Updated 4th line of \"requirements_pc.txt\" with https://software-dl.ti.com/jacinto7/esd/tidl-tools/09_00_00_02/OSRT_TOOLS/X86_64_LINUX/UBUNTU_22_04/onnx-1.9.0-cp310-cp310-linux_x86_64.whl\n",
        ""
      ],
      "metadata": {
        "id": "2PPNBwUvzk0q"
      }
    },
    {
      "cell_type": "code",
      "source": [
        "!export SOC=am68pa && cd edgeai-tidl-tools && source ./setup.sh  --skip_arm_gcc_download --skip_cpp_deps"
      ],
      "metadata": {
        "id": "javZSMuxtgUV"
      },
      "execution_count": null,
      "outputs": []
    },
    {
      "cell_type": "code",
      "source": [
        "!rm /content/edgeai-tidl-tools/tidl_tools -rf\n",
        "!wget https://software-dl.ti.com/jacinto7/esd/tidl-tools/09_00_00_02/TIDL_TOOLS/AM68PA/tidl_tools.tar.gz\n",
        "!mv tidl_tools.tar.gz /content/edgeai-tidl-tools/ && cd /content/edgeai-tidl-tools && tar -xzf tidl_tools.tar.gz"
      ],
      "metadata": {
        "id": "q5G0-0CsuBd1"
      },
      "execution_count": null,
      "outputs": []
    },
    {
      "cell_type": "code",
      "source": [
        "!export SOC=am68pa && \\\n",
        "export LD_LIBRARY_PATH=/content/edgeai-tidl-tools/tidl_tools && \\\n",
        "export TIDL_TOOLS_PATH=/content/edgeai-tidl-tools/tidl_tools && \\\n",
        "cd ./edgeai-tidl-tools/examples/osrt_python/tfl && \\\n",
        "python3 tflrt_delegate.py -c"
      ],
      "metadata": {
        "id": "pcAA4W3iuXLr"
      },
      "execution_count": null,
      "outputs": []
    },
    {
      "cell_type": "code",
      "source": [
        "!export SOC=am68pa && \\\n",
        "export LD_LIBRARY_PATH=/content/edgeai-tidl-tools/tidl_tools && \\\n",
        "export TIDL_TOOLS_PATH=/content/edgeai-tidl-tools/tidl_tools && \\\n",
        "cd ./edgeai-tidl-tools/examples/osrt_python/tfl && \\\n",
        "python3 tflrt_delegate.py"
      ],
      "metadata": {
        "colab": {
          "base_uri": "https://localhost:8080/"
        },
        "id": "QlA5XCkfxPjE",
        "outputId": "08dda397-e37d-4724-c308-1177e988e6a1"
      },
      "execution_count": 5,
      "outputs": [
        {
          "output_type": "stream",
          "name": "stdout",
          "text": [
            "Running 1 Models - ['cl-tfl-mobilenet_v1_1.0_224']\n",
            "\n",
            "\n",
            "Running_Model :  cl-tfl-mobilenet_v1_1.0_224\n",
            "\n",
            " Number of subgraphs:1 , 34 nodes delegated out of 34 nodes \n",
            " \n",
            "The soft limit is 2048\n",
            "The hard limit is 2048\n",
            "MEM: Init ... !!!\n",
            "MEM: Init ... Done !!!\n",
            " 0.0s:  VX_ZONE_INIT:Enabled\n",
            " 0.17s:  VX_ZONE_ERROR:Enabled\n",
            " 0.20s:  VX_ZONE_WARNING:Enabled\n",
            " 0.2745s:  VX_ZONE_INIT:[tivxInit:185] Initialization Done !!!\n",
            "\n",
            " ,  0  0.691726  warplane, military plane ,,  1  0.181373  missile ,,  2  0.109571  projectile, missile ,,  3  0.006352  cannon ,,  4  0.005370  aircraft carrier, carrier, flattop, attack aircraft carrier ,\n",
            "\n",
            "Saving image to  ../../../output_images/\n",
            "\n",
            " \n",
            "Completed_Model :     1, Name : cl-tfl-mobilenet_v1_1.0_224                       , Total time :     240.74, Offload Time :     240.73 , DDR RW MBs : 18446744073709.55, Output File : py_out_cl-tfl-mobilenet_v1_1.0_224_airshow.jpg\n",
            " \n",
            " \n",
            "MEM: Deinit ... !!!\n",
            "MEM: Alloc's: 26 alloc's of 43300342 bytes \n",
            "MEM: Free's : 26 free's  of 43300342 bytes \n",
            "MEM: Open's : 0 allocs  of 0 bytes \n",
            "MEM: Deinit ... Done !!!\n"
          ]
        }
      ]
    },
    {
      "cell_type": "code",
      "source": [
        "import glob\n",
        "from IPython.display import Image, display\n",
        "for imageName in glob.glob('/content/edgeai-tidl-tools/output_images/*.jpg'):\n",
        "    display(Image(filename=imageName))"
      ],
      "metadata": {
        "colab": {
          "base_uri": "https://localhost:8080/",
          "height": 241
        },
        "id": "nmxBeqvcxacM",
        "outputId": "1a6027d4-771a-44c4-b246-937aa217741d"
      },
      "execution_count": 6,
      "outputs": [
        {
          "output_type": "display_data",
          "data": {
            "image/jpeg": "[encoded data removed]",
            "text/plain": [
              "<IPython.core.display.Image object>"
            ]
          },
          "metadata": {}
        }
      ]
    }
  ]
}