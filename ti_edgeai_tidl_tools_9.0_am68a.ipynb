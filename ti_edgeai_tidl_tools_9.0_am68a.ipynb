{
  "nbformat": 4,
  "nbformat_minor": 0,
  "metadata": {
    "colab": {
      "provenance": [],
      "authorship_tag": "ABX9TyPXtP9ICwx4DK4RWfX4vsWu",
      "include_colab_link": true
    },
    "kernelspec": {
      "name": "python3",
      "display_name": "Python 3"
    },
    "language_info": {
      "name": "python"
    }
  },
  "cells": [
    {
      "cell_type": "markdown",
      "metadata": {
        "id": "view-in-github",
        "colab_type": "text"
      },
      "source": [
        "<a href=\"https://colab.research.google.com/github/kumardesappan/colab-notebooks/blob/main/ti_edgeai_tidl_tools_9.0_am68a.ipynb\" target=\"_parent\"><img src=\"https://colab.research.google.com/assets/colab-badge.svg\" alt=\"Open In Colab\"/></a>"
      ]
    },
    {
      "cell_type": "code",
      "execution_count": 1,
      "metadata": {
        "id": "0m9iB85BtM1J",
        "outputId": "52e2f045-f6a8-44c4-e4bf-19d8655c413d",
        "colab": {
          "base_uri": "https://localhost:8080/"
        }
      },
      "outputs": [
        {
          "output_type": "stream",
          "name": "stdout",
          "text": [
            "Cloning into 'edgeai-tidl-tools'...\n",
            "remote: Enumerating objects: 501, done.\u001b[K\n",
            "remote: Counting objects: 100% (501/501), done.\u001b[K\n",
            "remote: Compressing objects: 100% (363/363), done.\u001b[K\n",
            "remote: Total 501 (delta 206), reused 331 (delta 128), pack-reused 0\u001b[K\n",
            "Receiving objects: 100% (501/501), 7.71 MiB | 21.04 MiB/s, done.\n",
            "Resolving deltas: 100% (206/206), done.\n"
          ]
        }
      ],
      "source": [
        "!git clone --single-branch --depth 1 --branch master https://github.com/TexasInstruments/edgeai-tidl-tools.git"
      ]
    },
    {
      "cell_type": "code",
      "source": [
        "!export SOC=am68a && cd edgeai-tidl-tools && source ./setup.sh  --skip_arm_gcc_download --skip_cpp_deps"
      ],
      "metadata": {
        "id": "javZSMuxtgUV",
        "outputId": "0ea235f9-eb17-4b7b-fd17-2101f9bba855",
        "colab": {
          "base_uri": "https://localhost:8080/"
        }
      },
      "execution_count": 2,
      "outputs": [
        {
          "output_type": "stream",
          "name": "stdout",
          "text": [
            "X64 Architecture\n",
            "Installing python packages...\n",
            "Collecting pybind11[global]\n",
            "  Downloading pybind11-2.11.1-py3-none-any.whl (227 kB)\n",
            "\u001b[2K     \u001b[90m━━━━━━━━━━━━━━━━━━━━━━━━━━━━━━━━━━━━━━━\u001b[0m \u001b[32m227.7/227.7 kB\u001b[0m \u001b[31m4.0 MB/s\u001b[0m eta \u001b[36m0:00:00\u001b[0m\n",
            "\u001b[?25hCollecting pybind11-global==2.11.1 (from pybind11[global])\n",
            "  Downloading pybind11_global-2.11.1-py3-none-any.whl (412 kB)\n",
            "\u001b[2K     \u001b[90m━━━━━━━━━━━━━━━━━━━━━━━━━━━━━━━━━━━━━━\u001b[0m \u001b[32m412.2/412.2 kB\u001b[0m \u001b[31m21.2 MB/s\u001b[0m eta \u001b[36m0:00:00\u001b[0m\n",
            "\u001b[?25hInstalling collected packages: pybind11-global, pybind11\n",
            "Successfully installed pybind11-2.11.1 pybind11-global-2.11.1\n",
            "Collecting onnx==1.9.0 (from -r ./requirements_pc.txt (line 4))\n",
            "  Downloading https://software-dl.ti.com/jacinto7/esd/tidl-tools/09_00_00_02/OSRT_TOOLS/X86_64_LINUX/UBUNTU_22_04/onnx-1.9.0-cp310-cp310-linux_x86_64.whl (11.6 MB)\n",
            "\u001b[2K     \u001b[90m━━━━━━━━━━━━━━━━━━━━━━━━━━━━━━━━━━━━━━━━\u001b[0m \u001b[32m11.6/11.6 MB\u001b[0m \u001b[31m10.2 MB/s\u001b[0m eta \u001b[36m0:00:00\u001b[0m\n",
            "\u001b[?25hCollecting git+https://github.com/kumardesappan/caffe2onnx (from -r ./requirements_pc.txt (line 16))\n",
            "  Cloning https://github.com/kumardesappan/caffe2onnx to /tmp/pip-req-build-2dwo6spp\n",
            "  Running command git clone --filter=blob:none --quiet https://github.com/kumardesappan/caffe2onnx /tmp/pip-req-build-2dwo6spp\n",
            "  Resolved https://github.com/kumardesappan/caffe2onnx to commit b7e73feed3bbc5ddbdf25b87af93a2bae596055d\n",
            "  Preparing metadata (setup.py) ... \u001b[?25l\u001b[?25hdone\n",
            "Collecting numpy==1.23.0 (from -r ./requirements_pc.txt (line 1))\n",
            "  Downloading numpy-1.23.0-cp310-cp310-manylinux_2_17_x86_64.manylinux2014_x86_64.whl (17.0 MB)\n",
            "\u001b[2K     \u001b[90m━━━━━━━━━━━━━━━━━━━━━━━━━━━━━━━━━━━━━━━━\u001b[0m \u001b[32m17.0/17.0 MB\u001b[0m \u001b[31m64.9 MB/s\u001b[0m eta \u001b[36m0:00:00\u001b[0m\n",
            "\u001b[?25hRequirement already satisfied: pyyaml in /usr/local/lib/python3.10/dist-packages (from -r ./requirements_pc.txt (line 2)) (6.0.1)\n",
            "Collecting protobuf==3.19.4 (from -r ./requirements_pc.txt (line 3))\n",
            "  Downloading protobuf-3.19.4-cp310-cp310-manylinux_2_17_x86_64.manylinux2014_x86_64.whl (1.1 MB)\n",
            "\u001b[2K     \u001b[90m━━━━━━━━━━━━━━━━━━━━━━━━━━━━━━━━━━━━━━━━\u001b[0m \u001b[32m1.1/1.1 MB\u001b[0m \u001b[31m53.2 MB/s\u001b[0m eta \u001b[36m0:00:00\u001b[0m\n",
            "\u001b[?25hRequirement already satisfied: torch in /usr/local/lib/python3.10/dist-packages (from -r ./requirements_pc.txt (line 5)) (2.0.1+cu118)\n",
            "Collecting timm (from -r ./requirements_pc.txt (line 6))\n",
            "  Downloading timm-0.9.7-py3-none-any.whl (2.2 MB)\n",
            "\u001b[2K     \u001b[90m━━━━━━━━━━━━━━━━━━━━━━━━━━━━━━━━━━━━━━━━\u001b[0m \u001b[32m2.2/2.2 MB\u001b[0m \u001b[31m74.3 MB/s\u001b[0m eta \u001b[36m0:00:00\u001b[0m\n",
            "\u001b[?25hCollecting tflite (from -r ./requirements_pc.txt (line 7))\n",
            "  Downloading tflite-2.10.0-py2.py3-none-any.whl (123 kB)\n",
            "\u001b[2K     \u001b[90m━━━━━━━━━━━━━━━━━━━━━━━━━━━━━━━━━━━━━━\u001b[0m \u001b[32m123.6/123.6 kB\u001b[0m \u001b[31m12.6 MB/s\u001b[0m eta \u001b[36m0:00:00\u001b[0m\n",
            "\u001b[?25hRequirement already satisfied: pillow in /usr/local/lib/python3.10/dist-packages (from -r ./requirements_pc.txt (line 8)) (9.4.0)\n",
            "Collecting flatbuffers==1.12.0 (from -r ./requirements_pc.txt (line 9))\n",
            "  Downloading flatbuffers-1.12-py2.py3-none-any.whl (15 kB)\n",
            "Requirement already satisfied: requests in /usr/local/lib/python3.10/dist-packages (from -r ./requirements_pc.txt (line 10)) (2.31.0)\n",
            "Requirement already satisfied: opencv-python in /usr/local/lib/python3.10/dist-packages (from -r ./requirements_pc.txt (line 11)) (4.8.0.76)\n",
            "Requirement already satisfied: pytest in /usr/local/lib/python3.10/dist-packages (from -r ./requirements_pc.txt (line 12)) (7.4.1)\n",
            "Requirement already satisfied: graphviz in /usr/local/lib/python3.10/dist-packages (from -r ./requirements_pc.txt (line 13)) (0.20.1)\n",
            "Collecting dataclasses (from -r ./requirements_pc.txt (line 14))\n",
            "  Downloading dataclasses-0.6-py3-none-any.whl (14 kB)\n",
            "Collecting gluoncv (from -r ./requirements_pc.txt (line 15))\n",
            "  Downloading gluoncv-0.10.5.post0-py2.py3-none-any.whl (1.3 MB)\n",
            "\u001b[2K     \u001b[90m━━━━━━━━━━━━━━━━━━━━━━━━━━━━━━━━━━━━━━━━\u001b[0m \u001b[32m1.3/1.3 MB\u001b[0m \u001b[31m55.5 MB/s\u001b[0m eta \u001b[36m0:00:00\u001b[0m\n",
            "\u001b[?25hRequirement already satisfied: six in /usr/local/lib/python3.10/dist-packages (from onnx==1.9.0->-r ./requirements_pc.txt (line 4)) (1.16.0)\n",
            "Requirement already satisfied: typing-extensions>=3.6.2.1 in /usr/local/lib/python3.10/dist-packages (from onnx==1.9.0->-r ./requirements_pc.txt (line 4)) (4.5.0)\n",
            "Requirement already satisfied: filelock in /usr/local/lib/python3.10/dist-packages (from torch->-r ./requirements_pc.txt (line 5)) (3.12.2)\n",
            "Requirement already satisfied: sympy in /usr/local/lib/python3.10/dist-packages (from torch->-r ./requirements_pc.txt (line 5)) (1.12)\n",
            "Requirement already satisfied: networkx in /usr/local/lib/python3.10/dist-packages (from torch->-r ./requirements_pc.txt (line 5)) (3.1)\n",
            "Requirement already satisfied: jinja2 in /usr/local/lib/python3.10/dist-packages (from torch->-r ./requirements_pc.txt (line 5)) (3.1.2)\n",
            "Requirement already satisfied: triton==2.0.0 in /usr/local/lib/python3.10/dist-packages (from torch->-r ./requirements_pc.txt (line 5)) (2.0.0)\n",
            "Requirement already satisfied: cmake in /usr/local/lib/python3.10/dist-packages (from triton==2.0.0->torch->-r ./requirements_pc.txt (line 5)) (3.27.4.1)\n",
            "Requirement already satisfied: lit in /usr/local/lib/python3.10/dist-packages (from triton==2.0.0->torch->-r ./requirements_pc.txt (line 5)) (16.0.6)\n",
            "Requirement already satisfied: torchvision in /usr/local/lib/python3.10/dist-packages (from timm->-r ./requirements_pc.txt (line 6)) (0.15.2+cu118)\n",
            "Collecting huggingface-hub (from timm->-r ./requirements_pc.txt (line 6))\n",
            "  Downloading huggingface_hub-0.17.2-py3-none-any.whl (294 kB)\n",
            "\u001b[2K     \u001b[90m━━━━━━━━━━━━━━━━━━━━━━━━━━━━━━━━━━━━━━\u001b[0m \u001b[32m294.9/294.9 kB\u001b[0m \u001b[31m24.0 MB/s\u001b[0m eta \u001b[36m0:00:00\u001b[0m\n",
            "\u001b[?25hCollecting safetensors (from timm->-r ./requirements_pc.txt (line 6))\n",
            "  Downloading safetensors-0.3.3-cp310-cp310-manylinux_2_17_x86_64.manylinux2014_x86_64.whl (1.3 MB)\n",
            "\u001b[2K     \u001b[90m━━━━━━━━━━━━━━━━━━━━━━━━━━━━━━━━━━━━━━━━\u001b[0m \u001b[32m1.3/1.3 MB\u001b[0m \u001b[31m33.4 MB/s\u001b[0m eta \u001b[36m0:00:00\u001b[0m\n",
            "\u001b[?25hRequirement already satisfied: charset-normalizer<4,>=2 in /usr/local/lib/python3.10/dist-packages (from requests->-r ./requirements_pc.txt (line 10)) (3.2.0)\n",
            "Requirement already satisfied: idna<4,>=2.5 in /usr/local/lib/python3.10/dist-packages (from requests->-r ./requirements_pc.txt (line 10)) (3.4)\n",
            "Requirement already satisfied: urllib3<3,>=1.21.1 in /usr/local/lib/python3.10/dist-packages (from requests->-r ./requirements_pc.txt (line 10)) (2.0.4)\n",
            "Requirement already satisfied: certifi>=2017.4.17 in /usr/local/lib/python3.10/dist-packages (from requests->-r ./requirements_pc.txt (line 10)) (2023.7.22)\n",
            "Requirement already satisfied: iniconfig in /usr/local/lib/python3.10/dist-packages (from pytest->-r ./requirements_pc.txt (line 12)) (2.0.0)\n",
            "Requirement already satisfied: packaging in /usr/local/lib/python3.10/dist-packages (from pytest->-r ./requirements_pc.txt (line 12)) (23.1)\n",
            "Requirement already satisfied: pluggy<2.0,>=0.12 in /usr/local/lib/python3.10/dist-packages (from pytest->-r ./requirements_pc.txt (line 12)) (1.3.0)\n",
            "Requirement already satisfied: exceptiongroup>=1.0.0rc8 in /usr/local/lib/python3.10/dist-packages (from pytest->-r ./requirements_pc.txt (line 12)) (1.1.3)\n",
            "Requirement already satisfied: tomli>=1.0.0 in /usr/local/lib/python3.10/dist-packages (from pytest->-r ./requirements_pc.txt (line 12)) (2.0.1)\n",
            "Requirement already satisfied: tqdm in /usr/local/lib/python3.10/dist-packages (from gluoncv->-r ./requirements_pc.txt (line 15)) (4.66.1)\n",
            "Requirement already satisfied: matplotlib in /usr/local/lib/python3.10/dist-packages (from gluoncv->-r ./requirements_pc.txt (line 15)) (3.7.1)\n",
            "Collecting portalocker (from gluoncv->-r ./requirements_pc.txt (line 15))\n",
            "  Downloading portalocker-2.8.2-py3-none-any.whl (17 kB)\n",
            "Requirement already satisfied: scipy in /usr/local/lib/python3.10/dist-packages (from gluoncv->-r ./requirements_pc.txt (line 15)) (1.11.2)\n",
            "Collecting yacs (from gluoncv->-r ./requirements_pc.txt (line 15))\n",
            "  Downloading yacs-0.1.8-py3-none-any.whl (14 kB)\n",
            "Requirement already satisfied: pandas in /usr/local/lib/python3.10/dist-packages (from gluoncv->-r ./requirements_pc.txt (line 15)) (1.5.3)\n",
            "Collecting autocfg (from gluoncv->-r ./requirements_pc.txt (line 15))\n",
            "  Downloading autocfg-0.0.8-py3-none-any.whl (13 kB)\n",
            "Requirement already satisfied: fsspec in /usr/local/lib/python3.10/dist-packages (from huggingface-hub->timm->-r ./requirements_pc.txt (line 6)) (2023.6.0)\n",
            "Requirement already satisfied: MarkupSafe>=2.0 in /usr/local/lib/python3.10/dist-packages (from jinja2->torch->-r ./requirements_pc.txt (line 5)) (2.1.3)\n",
            "Requirement already satisfied: contourpy>=1.0.1 in /usr/local/lib/python3.10/dist-packages (from matplotlib->gluoncv->-r ./requirements_pc.txt (line 15)) (1.1.0)\n",
            "Requirement already satisfied: cycler>=0.10 in /usr/local/lib/python3.10/dist-packages (from matplotlib->gluoncv->-r ./requirements_pc.txt (line 15)) (0.11.0)\n",
            "Requirement already satisfied: fonttools>=4.22.0 in /usr/local/lib/python3.10/dist-packages (from matplotlib->gluoncv->-r ./requirements_pc.txt (line 15)) (4.42.1)\n",
            "Requirement already satisfied: kiwisolver>=1.0.1 in /usr/local/lib/python3.10/dist-packages (from matplotlib->gluoncv->-r ./requirements_pc.txt (line 15)) (1.4.5)\n",
            "Requirement already satisfied: pyparsing>=2.3.1 in /usr/local/lib/python3.10/dist-packages (from matplotlib->gluoncv->-r ./requirements_pc.txt (line 15)) (3.1.1)\n",
            "Requirement already satisfied: python-dateutil>=2.7 in /usr/local/lib/python3.10/dist-packages (from matplotlib->gluoncv->-r ./requirements_pc.txt (line 15)) (2.8.2)\n",
            "Requirement already satisfied: pytz>=2020.1 in /usr/local/lib/python3.10/dist-packages (from pandas->gluoncv->-r ./requirements_pc.txt (line 15)) (2023.3.post1)\n",
            "Requirement already satisfied: mpmath>=0.19 in /usr/local/lib/python3.10/dist-packages (from sympy->torch->-r ./requirements_pc.txt (line 5)) (1.3.0)\n",
            "Building wheels for collected packages: caffe2onnx\n",
            "  Building wheel for caffe2onnx (setup.py) ... \u001b[?25l\u001b[?25hdone\n",
            "  Created wheel for caffe2onnx: filename=caffe2onnx-1.0.2-py3-none-any.whl size=98838 sha256=26a0b387073f281e052d33033c2946da8d2092a859026d4c899c5910e4efce6d\n",
            "  Stored in directory: /tmp/pip-ephem-wheel-cache-vpk07d2_/wheels/7d/61/53/92a634cbbb23f4c9853c5dc4a4a29a6046150d768973b746bb\n",
            "Successfully built caffe2onnx\n",
            "Installing collected packages: safetensors, flatbuffers, dataclasses, yacs, protobuf, portalocker, numpy, autocfg, tflite, onnx, huggingface-hub, caffe2onnx, gluoncv, timm\n",
            "  Attempting uninstall: flatbuffers\n",
            "    Found existing installation: flatbuffers 23.5.26\n",
            "    Uninstalling flatbuffers-23.5.26:\n",
            "      Successfully uninstalled flatbuffers-23.5.26\n",
            "  Attempting uninstall: protobuf\n",
            "    Found existing installation: protobuf 3.20.3\n",
            "    Uninstalling protobuf-3.20.3:\n",
            "      Successfully uninstalled protobuf-3.20.3\n",
            "  Attempting uninstall: numpy\n",
            "    Found existing installation: numpy 1.23.5\n",
            "    Uninstalling numpy-1.23.5:\n",
            "      Successfully uninstalled numpy-1.23.5\n",
            "\u001b[31mERROR: pip's dependency resolver does not currently take into account all the packages that are installed. This behaviour is the source of the following dependency conflicts.\n",
            "google-api-core 2.11.1 requires protobuf!=3.20.0,!=3.20.1,!=4.21.0,!=4.21.1,!=4.21.2,!=4.21.3,!=4.21.4,!=4.21.5,<5.0.0.dev0,>=3.19.5, but you have protobuf 3.19.4 which is incompatible.\n",
            "google-cloud-bigquery 3.10.0 requires protobuf!=3.20.0,!=3.20.1,!=4.21.0,!=4.21.1,!=4.21.2,!=4.21.3,!=4.21.4,!=4.21.5,<5.0.0dev,>=3.19.5, but you have protobuf 3.19.4 which is incompatible.\n",
            "google-cloud-bigquery-connection 1.12.1 requires protobuf!=3.20.0,!=3.20.1,!=4.21.0,!=4.21.1,!=4.21.2,!=4.21.3,!=4.21.4,!=4.21.5,<5.0.0dev,>=3.19.5, but you have protobuf 3.19.4 which is incompatible.\n",
            "google-cloud-bigquery-storage 2.22.0 requires protobuf!=3.20.0,!=3.20.1,!=4.21.0,!=4.21.1,!=4.21.2,!=4.21.3,!=4.21.4,!=4.21.5,<5.0.0dev,>=3.19.5, but you have protobuf 3.19.4 which is incompatible.\n",
            "google-cloud-datastore 2.15.2 requires protobuf!=3.20.0,!=3.20.1,!=4.21.0,!=4.21.1,!=4.21.2,!=4.21.3,!=4.21.4,!=4.21.5,<5.0.0dev,>=3.19.5, but you have protobuf 3.19.4 which is incompatible.\n",
            "google-cloud-firestore 2.11.1 requires protobuf!=3.20.0,!=3.20.1,!=4.21.0,!=4.21.1,!=4.21.2,!=4.21.3,!=4.21.4,!=4.21.5,<5.0.0dev,>=3.19.5, but you have protobuf 3.19.4 which is incompatible.\n",
            "google-cloud-functions 1.13.2 requires protobuf!=3.20.0,!=3.20.1,!=4.21.0,!=4.21.1,!=4.21.2,!=4.21.3,!=4.21.4,!=4.21.5,<5.0.0dev,>=3.19.5, but you have protobuf 3.19.4 which is incompatible.\n",
            "google-cloud-language 2.9.1 requires protobuf!=3.20.0,!=3.20.1,!=4.21.0,!=4.21.1,!=4.21.2,!=4.21.3,!=4.21.4,!=4.21.5,<5.0.0dev,>=3.19.5, but you have protobuf 3.19.4 which is incompatible.\n",
            "google-cloud-translate 3.11.3 requires protobuf!=3.20.0,!=3.20.1,!=4.21.0,!=4.21.1,!=4.21.2,!=4.21.3,!=4.21.4,!=4.21.5,<5.0.0dev,>=3.19.5, but you have protobuf 3.19.4 which is incompatible.\n",
            "googleapis-common-protos 1.60.0 requires protobuf!=3.20.0,!=3.20.1,!=4.21.1,!=4.21.2,!=4.21.3,!=4.21.4,!=4.21.5,<5.0.0.dev0,>=3.19.5, but you have protobuf 3.19.4 which is incompatible.\n",
            "grpc-google-iam-v1 0.12.6 requires protobuf!=3.20.0,!=3.20.1,!=4.21.1,!=4.21.2,!=4.21.3,!=4.21.4,!=4.21.5,<5.0.0dev,>=3.19.5, but you have protobuf 3.19.4 which is incompatible.\n",
            "tensorboard 2.13.0 requires protobuf>=3.19.6, but you have protobuf 3.19.4 which is incompatible.\n",
            "tensorflow 2.13.0 requires flatbuffers>=23.1.21, but you have flatbuffers 1.12 which is incompatible.\n",
            "tensorflow 2.13.0 requires protobuf!=4.21.0,!=4.21.1,!=4.21.2,!=4.21.3,!=4.21.4,!=4.21.5,<5.0.0dev,>=3.20.3, but you have protobuf 3.19.4 which is incompatible.\n",
            "tensorflow-datasets 4.9.2 requires protobuf>=3.20, but you have protobuf 3.19.4 which is incompatible.\n",
            "tensorflow-hub 0.14.0 requires protobuf>=3.19.6, but you have protobuf 3.19.4 which is incompatible.\n",
            "tensorflow-metadata 1.14.0 requires protobuf<4.21,>=3.20.3, but you have protobuf 3.19.4 which is incompatible.\u001b[0m\u001b[31m\n",
            "\u001b[0mSuccessfully installed autocfg-0.0.8 caffe2onnx-1.0.2 dataclasses-0.6 flatbuffers-1.12 gluoncv-0.10.5.post0 huggingface-hub-0.17.2 numpy-1.23.0 onnx-1.9.0 portalocker-2.8.2 protobuf-3.19.4 safetensors-0.3.3 tflite-2.10.0 timm-0.9.7 yacs-0.1.8\n",
            "Requirement already satisfied: pybind11[global] in /usr/local/lib/python3.10/dist-packages (2.11.1)\n",
            "Requirement already satisfied: pybind11-global==2.11.1 in /usr/local/lib/python3.10/dist-packages (from pybind11[global]) (2.11.1)\n",
            "Installing python osrt packages...\n",
            "\u001b[2K     \u001b[90m━━━━━━━━━━━━━━━━━━━━━━━━━━━━━━━━━━━━━━━━\u001b[0m \u001b[32m1.4/1.4 MB\u001b[0m \u001b[31m7.3 MB/s\u001b[0m eta \u001b[36m0:00:00\u001b[0m\n",
            "\u001b[2K     \u001b[90m━━━━━━━━━━━━━━━━━━━━━━━━━━━━━━━━━━━━━━━━\u001b[0m \u001b[32m53.1/53.1 MB\u001b[0m \u001b[31m5.4 MB/s\u001b[0m eta \u001b[36m0:00:00\u001b[0m\n",
            "\u001b[2K     \u001b[90m━━━━━━━━━━━━━━━━━━━━━━━━━━━━━━━━━━━━━━━━\u001b[0m \u001b[32m5.1/5.1 MB\u001b[0m \u001b[31m7.1 MB/s\u001b[0m eta \u001b[36m0:00:00\u001b[0m\n",
            "\u001b[2K     \u001b[90m━━━━━━━━━━━━━━━━━━━━━━━━━━━━━━━━━━━━━━━━\u001b[0m \u001b[32m2.5/2.5 MB\u001b[0m \u001b[31m5.6 MB/s\u001b[0m eta \u001b[36m0:00:00\u001b[0m\n",
            "\u001b[?25hDownloading tidl tools for AM68A SOC ...\n"
          ]
        }
      ]
    },
    {
      "cell_type": "code",
      "source": [
        "!export SOC=am68a && \\\n",
        "export LD_LIBRARY_PATH=/content/edgeai-tidl-tools/tidl_tools && \\\n",
        "export TIDL_TOOLS_PATH=/content/edgeai-tidl-tools/tidl_tools && \\\n",
        "cd ./edgeai-tidl-tools/examples/osrt_python/tfl && \\\n",
        "python3 tflrt_delegate.py -c -m cl-tfl-mobilenet_v1_1.0_224"
      ],
      "metadata": {
        "id": "pcAA4W3iuXLr",
        "outputId": "c267c795-6ac3-40b2-e076-0e7a9bf750f5",
        "colab": {
          "base_uri": "https://localhost:8080/"
        }
      },
      "execution_count": 3,
      "outputs": [
        {
          "output_type": "stream",
          "name": "stdout",
          "text": [
            "Running 1 Models - ['cl-tfl-mobilenet_v1_1.0_224']\n",
            "\n",
            "\n",
            "Running_Model :  cl-tfl-mobilenet_v1_1.0_224\n",
            "Downloading   ../../../models/public/mobilenet_v1_1.0_224.tflite\n",
            "/content/edgeai-tidl-tools/models/public/mobilenet_v1_1.0_224.tflite\n",
            "\n",
            " Preliminary number of subgraphs:1 , 34 nodes delegated out of 34 nodes \n",
            " \n",
            "Warning : Requested Output Data Convert Layer is not Added to the network, It is currently not Optimal\n",
            "\n",
            " ************** Frame index 1 : Running float import ************* \n",
            "****************************************************\n",
            "**                ALL MODEL CHECK PASSED          **\n",
            "****************************************************\n",
            "\n",
            "The soft limit is 2048\n",
            "The hard limit is 2048\n",
            "MEM: Init ... !!!\n",
            "MEM: Init ... Done !!!\n",
            " 0.0s:  VX_ZONE_INIT:Enabled\n",
            " 0.19s:  VX_ZONE_ERROR:Enabled\n",
            " 0.25s:  VX_ZONE_WARNING:Enabled\n",
            " 0.2972s:  VX_ZONE_INIT:[tivxInit:185] Initialization Done !!!\n",
            "\n",
            "^C\n"
          ]
        }
      ]
    },
    {
      "cell_type": "code",
      "source": [
        "!export SOC=am68a && \\\n",
        "export LD_LIBRARY_PATH=/content/edgeai-tidl-tools/tidl_tools && \\\n",
        "export TIDL_TOOLS_PATH=/content/edgeai-tidl-tools/tidl_tools && \\\n",
        "cd ./edgeai-tidl-tools/examples/osrt_python/tfl && \\\n",
        "python3 tflrt_delegate.py -m cl-tfl-mobilenet_v1_1.0_224"
      ],
      "metadata": {
        "colab": {
          "base_uri": "https://localhost:8080/"
        },
        "id": "QlA5XCkfxPjE",
        "outputId": "d4fcdce4-79b7-4486-eda3-e6c6c562f119"
      },
      "execution_count": 4,
      "outputs": [
        {
          "output_type": "stream",
          "name": "stdout",
          "text": [
            "Running 1 Models - ['cl-tfl-mobilenet_v1_1.0_224']\n",
            "\n",
            "\n",
            "Running_Model :  cl-tfl-mobilenet_v1_1.0_224\n",
            "\n",
            "******** WARNING ******* : Could not open ../../../model-artifacts//cl-tfl-mobilenet_v1_1.0_224///allowedNode.txt for reading... Entire model will run on ARM without any delegation to TIDL !\n",
            "\n",
            " Number of subgraphs:1 , 0 nodes delegated out of 34 nodes \n",
            " \n",
            "INFO: Created TensorFlow Lite XNNPACK delegate for CPU.\n",
            "\n",
            " ,  0  0.546826  warplane, military plane ,,  1  0.270631  missile ,,  2  0.165472  projectile, missile ,,  3  0.015031  aircraft carrier, carrier, flattop, attack aircraft carrier ,,  4  0.000821  submarine, pigboat, sub, U-boat ,\n",
            "\n",
            "Saving image to  ../../../output_images/\n",
            "\n",
            " \n",
            "Completed_Model :     1, Name : cl-tfl-mobilenet_v1_1.0_224                       , Total time :      53.22, Offload Time :       0.00 , DDR RW MBs : 18446744073709.55, Output File : py_out_cl-tfl-mobilenet_v1_1.0_224_airshow.jpg\n",
            " \n",
            " \n"
          ]
        }
      ]
    },
    {
      "cell_type": "code",
      "source": [
        "import glob\n",
        "from IPython.display import Image, display\n",
        "for imageName in glob.glob('/content/edgeai-tidl-tools/output_images/*.jpg'):\n",
        "    display(Image(filename=imageName))"
      ],
      "metadata": {
        "colab": {
          "base_uri": "https://localhost:8080/",
          "height": 241
        },
        "id": "nmxBeqvcxacM",
        "outputId": "b1cef6ff-45a7-4477-af31-6f165a59db72"
      },
      "execution_count": 5,
      "outputs": [
        {
          "output_type": "display_data",
          "data": {
            "image/jpeg": "[encoded data removed]",
            "text/plain": [
              "<IPython.core.display.Image object>"
            ]
          },
          "metadata": {}
        }
      ]
    }
  ]
}