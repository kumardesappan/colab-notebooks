{
  "nbformat": 4,
  "nbformat_minor": 0,
  "metadata": {
    "colab": {
      "name": "save_torchvision_model.ipynb",
      "provenance": [],
      "authorship_tag": "ABX9TyMlDMrpqrrT02aOc0nOMF4e",
      "include_colab_link": true
    },
    "kernelspec": {
      "name": "python3",
      "display_name": "Python 3"
    },
    "language_info": {
      "name": "python"
    }
  },
  "cells": [
    {
      "cell_type": "markdown",
      "metadata": {
        "id": "view-in-github",
        "colab_type": "text"
      },
      "source": [
        "<a href=\"https://colab.research.google.com/github/kumardesappan/colab-notebooks/blob/main/save_torchvision_model.ipynb\" target=\"_parent\"><img src=\"https://colab.research.google.com/assets/colab-badge.svg\" alt=\"Open In Colab\"/></a>"
      ]
    },
    {
      "cell_type": "code",
      "execution_count": null,
      "metadata": {
        "id": "A0ikffTHZyYX"
      },
      "outputs": [],
      "source": [
        "import torch\n",
        "import torch.onnx\n",
        "import torchvision.models as models\n",
        "model = models.mobilenet_v2(pretrained=True)\n",
        "dummy_input = torch.ones(4, 3, 224, 224, dtype=torch.float)\n",
        "name = 'mnet_v2_bs4.onnx'\n",
        "torch.onnx.export(model, dummy_input, name, verbose=True,opset_version=11)"
      ]
    }
  ]
}