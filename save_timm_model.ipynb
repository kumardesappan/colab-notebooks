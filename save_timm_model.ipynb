{
  "nbformat": 4,
  "nbformat_minor": 0,
  "metadata": {
    "colab": {
      "name": "save_timm_model.ipynb",
      "provenance": [],
      "authorship_tag": "ABX9TyNQiJNj321vBUgtT4/iT633",
      "include_colab_link": true
    },
    "kernelspec": {
      "name": "python3",
      "display_name": "Python 3"
    },
    "language_info": {
      "name": "python"
    }
  },
  "cells": [
    {
      "cell_type": "markdown",
      "metadata": {
        "id": "view-in-github",
        "colab_type": "text"
      },
      "source": [
        "<a href=\"https://colab.research.google.com/github/kumardesappan/colab-notebooks/blob/main/save_timm_model.ipynb\" target=\"_parent\"><img src=\"https://colab.research.google.com/assets/colab-badge.svg\" alt=\"Open In Colab\"/></a>"
      ]
    },
    {
      "cell_type": "code",
      "source": [
        "!pip3 install onnx-simplifier\n",
        "!pip install timm\n",
        "!pip install onnxruntime"
      ],
      "metadata": {
        "id": "SMP8pJvRkmIT"
      },
      "execution_count": null,
      "outputs": []
    },
    {
      "cell_type": "code",
      "execution_count": null,
      "metadata": {
        "id": "JNFfZ9nJkiDT"
      },
      "outputs": [],
      "source": [
        "import timm\n",
        "import torch\n",
        "model = timm.create_model('vit_tiny_patch16_224', pretrained=True)\n",
        "model.eval()\n",
        "\n",
        "dummy_input = torch.ones(1, 3, 224, 224, dtype=torch.float)\n",
        "name = 'vit_tiny.onnx'\n",
        "torch.onnx.export(model, dummy_input, name, verbose=True,opset_version=11)\n",
        "!python3 -m onnxsim 'vit_tiny.onnx' 'vit_tiny_1.onnx'\n",
        "\n"
      ]
    },
    {
      "cell_type": "code",
      "source": [
        "\n",
        "model = timm.create_model('mobilevitv2_050', pretrained=True)\n",
        "model.eval()\n",
        "\n",
        "dummy_input = torch.ones(1, 3, 256, 256, dtype=torch.float)\n",
        "name = 'mobilevitv2_050.onnx'\n",
        "torch.onnx.export(model, dummy_input, name, verbose=True,opset_version=11)\n",
        "!python3 -m onnxsim 'mobilevitv2_050.onnx' 'mobilevitv2_050_sim.onnx'\n"
      ],
      "metadata": {
        "id": "YmJ7TZ0hrKEw"
      },
      "execution_count": null,
      "outputs": []
    },
    {
      "cell_type": "code",
      "source": [
        "model = timm.create_model('deit_tiny_patch16_224', pretrained=True)\n",
        "model.eval()\n",
        "\n",
        "dummy_input = torch.ones(1, 3, 224, 224, dtype=torch.float)\n",
        "name = 'deit_tiny.onnx'\n",
        "torch.onnx.export(model, dummy_input, name, verbose=True,opset_version=11)\n",
        "!python3 -m onnxsim 'deit_tiny.onnx' 'deit_tiny_1.onnx'"
      ],
      "metadata": {
        "id": "JQd-yTMp8V0_"
      },
      "execution_count": null,
      "outputs": []
    }
  ]
}