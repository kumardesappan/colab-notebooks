{
  "nbformat": 4,
  "nbformat_minor": 0,
  "metadata": {
    "colab": {
      "name": "Infer-tflite.ipynb",
      "provenance": [],
      "authorship_tag": "ABX9TyMWYT2+JdHKUPnFO3JBlz8X",
      "include_colab_link": true
    },
    "kernelspec": {
      "name": "python3",
      "display_name": "Python 3"
    }
  },
  "cells": [
    {
      "cell_type": "markdown",
      "metadata": {
        "id": "view-in-github",
        "colab_type": "text"
      },
      "source": [
        "<a href=\"https://colab.research.google.com/github/kumardesappan/colab-notebooks/blob/main/Infer_tflite.ipynb\" target=\"_parent\"><img src=\"https://colab.research.google.com/assets/colab-badge.svg\" alt=\"Open In Colab\"/></a>"
      ]
    },
    {
      "cell_type": "code",
      "metadata": {
        "id": "RRlwdlGzUumd",
        "colab": {
          "base_uri": "https://localhost:8080/",
          "height": 476
        },
        "outputId": "92566f74-a958-474b-aae4-70d9923fe71e"
      },
      "source": [
        "!wget https://akm-img-a-in.tosshub.com/indiatoday/images/story/201804/jet.jpeg\n",
        "!wget https://tfhub.dev/tensorflow/lite-model/efficientnet/lite0/fp32/2?lite-format=tflite\n",
        "!mv /content/2?lite-format=tflite efficientnet-lit0.tflite"
      ],
      "execution_count": null,
      "outputs": [
        {
          "output_type": "stream",
          "text": [
            "--2020-08-28 13:50:35--  https://akm-img-a-in.tosshub.com/indiatoday/images/story/201804/jet.jpeg\n",
            "Resolving akm-img-a-in.tosshub.com (akm-img-a-in.tosshub.com)... 104.84.160.48, 2600:1417:76:183::1ac0, 2600:1417:76:194::1ac0\n",
            "Connecting to akm-img-a-in.tosshub.com (akm-img-a-in.tosshub.com)|104.84.160.48|:443... connected.\n",
            "HTTP request sent, awaiting response... 200 OK\n",
            "Length: 30622 (30K) [image/jpeg]\n",
            "Saving to: ‘jet.jpeg’\n",
            "\n",
            "jet.jpeg            100%[===================>]  29.90K  --.-KB/s    in 0.01s   \n",
            "\n",
            "2020-08-28 13:50:36 (2.25 MB/s) - ‘jet.jpeg’ saved [30622/30622]\n",
            "\n",
            "--2020-08-28 13:50:36--  https://tfhub.dev/tensorflow/lite-model/efficientnet/lite0/fp32/2?lite-format=tflite\n",
            "Resolving tfhub.dev (tfhub.dev)... 108.177.125.138, 108.177.125.113, 108.177.125.102, ...\n",
            "Connecting to tfhub.dev (tfhub.dev)|108.177.125.138|:443... connected.\n",
            "HTTP request sent, awaiting response... 302 Found\n",
            "Location: https://storage.googleapis.com/tfhub-lite-models/tensorflow/lite-model/efficientnet/lite0/fp32/2.tflite [following]\n",
            "--2020-08-28 13:50:36--  https://storage.googleapis.com/tfhub-lite-models/tensorflow/lite-model/efficientnet/lite0/fp32/2.tflite\n",
            "Resolving storage.googleapis.com (storage.googleapis.com)... 64.233.189.128, 108.177.97.128, 108.177.125.128, ...\n",
            "Connecting to storage.googleapis.com (storage.googleapis.com)|64.233.189.128|:443... connected.\n",
            "HTTP request sent, awaiting response... 200 OK\n",
            "Length: 18582169 (18M) [application/octet-stream]\n",
            "Saving to: ‘2?lite-format=tflite’\n",
            "\n",
            "2?lite-format=tflit 100%[===================>]  17.72M  12.1MB/s    in 1.5s    \n",
            "\n",
            "2020-08-28 13:50:39 (12.1 MB/s) - ‘2?lite-format=tflite’ saved [18582169/18582169]\n",
            "\n"
          ],
          "name": "stdout"
        }
      ]
    },
    {
      "cell_type": "code",
      "metadata": {
        "id": "WsDWsaQKTTm3",
        "colab": {
          "base_uri": "https://localhost:8080/",
          "height": 71
        },
        "outputId": "4cc9bf19-b3b0-4336-f7ba-ee4ef238bcbf"
      },
      "source": [
        "import math\n",
        "import tensorflow as tf\n",
        "\n",
        "import time\n",
        "import os\n",
        "import numpy as np\n",
        "import PIL\n",
        "import PIL.Image as Image\n",
        "\n",
        "import argparse\n",
        "model_path =\"./efficientnet-lit0.tflite\"\n",
        "input_file =\"jet.jpeg\"\n",
        "\n",
        "input_mean =127.5\n",
        "input_std  =127.5\n",
        "\n",
        "        \n",
        "\n",
        "def infer_tflite_model():\n",
        "\n",
        "  interpreter = tf.lite.Interpreter(model_path=model_path)\n",
        "  interpreter.allocate_tensors()\n",
        "    \n",
        "  input_details = interpreter.get_input_details()\n",
        "  output_details = interpreter.get_output_details()\n",
        "\n",
        "  print(output_details)\n",
        "\n",
        "  # check the type of the input tensor\n",
        "  floating_model = input_details[0]['dtype'] == np.float32\n",
        "\n",
        "  # NxHxWxC, H:1, W:2\n",
        "  height = input_details[0]['shape'][1]\n",
        "  width = input_details[0]['shape'][2]\n",
        "  img = Image.open(input_file).resize((width, height))\n",
        "\n",
        "  # add N dim\n",
        "  input_data = np.expand_dims(img, axis=0)\n",
        "\n",
        "  if floating_model:\n",
        "    input_data = (np.float32(input_data) - input_mean) / input_std\n",
        "\n",
        "  interpreter.set_tensor(input_details[0]['index'], input_data)\n",
        "\n",
        "  interpreter.invoke()\n",
        "\n",
        "  output_data = interpreter.get_tensor(output_details[0]['index'])\n",
        "  results = np.squeeze(output_data)\n",
        "\n",
        "  top_k = results.argsort()[-5:][::-1]\n",
        "  print(top_k)\n",
        "\n",
        "                                       \n",
        "infer_tflite_model()\n",
        "\n"
      ],
      "execution_count": null,
      "outputs": [
        {
          "output_type": "stream",
          "text": [
            "[{'name': 'Softmax', 'index': 163, 'shape': array([   1, 1000], dtype=int32), 'shape_signature': array([   1, 1000], dtype=int32), 'dtype': <class 'numpy.float32'>, 'quantization': (0.0, 0), 'quantization_parameters': {'scales': array([], dtype=float32), 'zero_points': array([], dtype=int32), 'quantized_dimension': 0}, 'sparsity_parameters': {}}]\n",
            "[895 403 744 657  51]\n"
          ],
          "name": "stdout"
        }
      ]
    }
  ]
}