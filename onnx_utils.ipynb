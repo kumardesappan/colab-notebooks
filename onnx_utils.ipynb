{
  "nbformat": 4,
  "nbformat_minor": 0,
  "metadata": {
    "colab": {
      "provenance": [],
      "authorship_tag": "ABX9TyOop3XeslsaeS0DU5Nq3YKG",
      "include_colab_link": true
    },
    "kernelspec": {
      "name": "python3",
      "display_name": "Python 3"
    },
    "language_info": {
      "name": "python"
    }
  },
  "cells": [
    {
      "cell_type": "markdown",
      "metadata": {
        "id": "view-in-github",
        "colab_type": "text"
      },
      "source": [
        "<a href=\"https://colab.research.google.com/github/kumardesappan/colab-notebooks/blob/main/onnx_utils.ipynb\" target=\"_parent\"><img src=\"https://colab.research.google.com/assets/colab-badge.svg\" alt=\"Open In Colab\"/></a>"
      ]
    },
    {
      "cell_type": "code",
      "execution_count": 1,
      "metadata": {
        "colab": {
          "base_uri": "https://localhost:8080/"
        },
        "id": "qWdwV3yHk2za",
        "outputId": "1bb4c0b8-a107-4cf3-ca50-788a6345053b"
      },
      "outputs": [
        {
          "output_type": "stream",
          "name": "stdout",
          "text": [
            "Collecting onnx==1.9.0\n",
            "  Downloading https://software-dl.ti.com/jacinto7/esd/tidl-tools/09_00_00_02/OSRT_TOOLS/X86_64_LINUX/UBUNTU_22_04/onnx-1.9.0-cp310-cp310-linux_x86_64.whl (11.6 MB)\n",
            "\u001b[2K     \u001b[90m━━━━━━━━━━━━━━━━━━━━━━━━━━━━━━━━━━━━━━━━\u001b[0m \u001b[32m11.6/11.6 MB\u001b[0m \u001b[31m42.0 MB/s\u001b[0m eta \u001b[36m0:00:00\u001b[0m\n",
            "\u001b[?25hRequirement already satisfied: protobuf in /usr/local/lib/python3.10/dist-packages (from onnx==1.9.0) (3.20.3)\n",
            "Requirement already satisfied: numpy>=1.16.6 in /usr/local/lib/python3.10/dist-packages (from onnx==1.9.0) (1.23.5)\n",
            "Requirement already satisfied: six in /usr/local/lib/python3.10/dist-packages (from onnx==1.9.0) (1.16.0)\n",
            "Requirement already satisfied: typing-extensions>=3.6.2.1 in /usr/local/lib/python3.10/dist-packages (from onnx==1.9.0) (4.5.0)\n",
            "Installing collected packages: onnx\n",
            "Successfully installed onnx-1.9.0\n",
            "--2023-10-04 04:55:54--  https://github.com/onnx/models/blob/1008b6e9450ab632538390e38e0ab28b3f207fbc/vision/classification/squeezenet/model/squeezenet1.1-7.onnx?raw=true\n",
            "Resolving github.com (github.com)... 140.82.114.4\n",
            "Connecting to github.com (github.com)|140.82.114.4|:443... connected.\n",
            "HTTP request sent, awaiting response... 302 Found\n",
            "Location: https://github.com/onnx/models/raw/1008b6e9450ab632538390e38e0ab28b3f207fbc/vision/classification/squeezenet/model/squeezenet1.1-7.onnx [following]\n",
            "--2023-10-04 04:55:55--  https://github.com/onnx/models/raw/1008b6e9450ab632538390e38e0ab28b3f207fbc/vision/classification/squeezenet/model/squeezenet1.1-7.onnx\n",
            "Reusing existing connection to github.com:443.\n",
            "HTTP request sent, awaiting response... 302 Found\n",
            "Location: https://media.githubusercontent.com/media/onnx/models/1008b6e9450ab632538390e38e0ab28b3f207fbc/vision/classification/squeezenet/model/squeezenet1.1-7.onnx [following]\n",
            "--2023-10-04 04:55:55--  https://media.githubusercontent.com/media/onnx/models/1008b6e9450ab632538390e38e0ab28b3f207fbc/vision/classification/squeezenet/model/squeezenet1.1-7.onnx\n",
            "Resolving media.githubusercontent.com (media.githubusercontent.com)... 185.199.108.133, 185.199.109.133, 185.199.110.133, ...\n",
            "Connecting to media.githubusercontent.com (media.githubusercontent.com)|185.199.108.133|:443... connected.\n",
            "HTTP request sent, awaiting response... 200 OK\n",
            "Length: 4956208 (4.7M) [application/octet-stream]\n",
            "Saving to: ‘squeezenet1.1-7.onnx?raw=true’\n",
            "\n",
            "squeezenet1.1-7.onn 100%[===================>]   4.73M  --.-KB/s    in 0.05s   \n",
            "\n",
            "2023-10-04 04:55:56 (94.0 MB/s) - ‘squeezenet1.1-7.onnx?raw=true’ saved [4956208/4956208]\n",
            "\n"
          ]
        }
      ],
      "source": [
        "!pip3 install https://software-dl.ti.com/jacinto7/esd/tidl-tools/09_00_00_02/OSRT_TOOLS/X86_64_LINUX/UBUNTU_22_04/onnx-1.9.0-cp310-cp310-linux_x86_64.whl\n",
        "!wget https://github.com/onnx/models/blob/1008b6e9450ab632538390e38e0ab28b3f207fbc/vision/classification/squeezenet/model/squeezenet1.1-7.onnx?raw=true\n",
        "!mv squeezenet1.1-7.onnx?raw=true squeezenet1.1-7.onnx"
      ]
    },
    {
      "cell_type": "code",
      "source": [
        "import onnx\n",
        "onnx.shape_inference.infer_shapes_path(\"/content/squeezenet1.1-7.onnx\", \"/content/squeezenet1.1-7-shape.onnx\")"
      ],
      "metadata": {
        "id": "YkZvjHT4lDjR"
      },
      "execution_count": 2,
      "outputs": []
    },
    {
      "cell_type": "code",
      "source": [
        "\n",
        "import os\n",
        "\n",
        "model_name = \"/content/squeezenet1.1-7-shape.onnx\"\n",
        "modified_model_name = \"/content/squeezenet1.1-7-shape-tensors.onnx\"\n",
        "onnx_model = onnx.load(model_name)\n",
        "intermediate_layer_value_info = onnx.helper.ValueInfoProto()\n",
        "intermediate_layer_value_info.name = ''\n",
        "export_layer_types = ('Relu','Concat', 'MaxPool')\n",
        "for i in range(len(onnx_model.graph.node)):\n",
        "    for j in range(len(onnx_model.graph.node[i].output)):\n",
        "        if onnx_model.graph.node[i].op_type in export_layer_types:\n",
        "            intermediate_layer_value_info.name = onnx_model.graph.node[i].output[0]\n",
        "            onnx_model.graph.output.append(intermediate_layer_value_info)\n",
        "        #\n",
        "    #\n",
        "#\n",
        "onnx.save(onnx_model, modified_model_name)"
      ],
      "metadata": {
        "id": "EyKlqrNmCZyv"
      },
      "execution_count": 3,
      "outputs": []
    }
  ]
}