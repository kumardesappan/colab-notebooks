{
  "nbformat": 4,
  "nbformat_minor": 0,
  "metadata": {
    "colab": {
      "provenance": [],
      "authorship_tag": "ABX9TyPt3qNCp5eeYo8eJzg0QNld",
      "include_colab_link": true
    },
    "kernelspec": {
      "name": "python3",
      "display_name": "Python 3"
    },
    "language_info": {
      "name": "python"
    }
  },
  "cells": [
    {
      "cell_type": "markdown",
      "metadata": {
        "id": "view-in-github",
        "colab_type": "text"
      },
      "source": [
        "<a href=\"https://colab.research.google.com/github/kumardesappan/colab-notebooks/blob/main/onnx_utils.ipynb\" target=\"_parent\"><img src=\"https://colab.research.google.com/assets/colab-badge.svg\" alt=\"Open In Colab\"/></a>"
      ]
    },
    {
      "cell_type": "code",
      "execution_count": 2,
      "metadata": {
        "colab": {
          "base_uri": "https://localhost:8080/"
        },
        "id": "qWdwV3yHk2za",
        "outputId": "eddc8b26-cc14-4d04-891e-c43788c5b0b2"
      },
      "outputs": [
        {
          "output_type": "stream",
          "name": "stdout",
          "text": [
            "Collecting onnx==1.9.0\n",
            "  Downloading https://software-dl.ti.com/jacinto7/esd/tidl-tools/09_00_00_02/OSRT_TOOLS/X86_64_LINUX/UBUNTU_22_04/onnx-1.9.0-cp310-cp310-linux_x86_64.whl (11.6 MB)\n",
            "\u001b[2K     \u001b[90m━━━━━━━━━━━━━━━━━━━━━━━━━━━━━━━━━━━━━━━━\u001b[0m \u001b[32m11.6/11.6 MB\u001b[0m \u001b[31m55.1 MB/s\u001b[0m eta \u001b[36m0:00:00\u001b[0m\n",
            "\u001b[?25hRequirement already satisfied: protobuf in /usr/local/lib/python3.10/dist-packages (from onnx==1.9.0) (3.20.3)\n",
            "Requirement already satisfied: numpy>=1.16.6 in /usr/local/lib/python3.10/dist-packages (from onnx==1.9.0) (1.23.5)\n",
            "Requirement already satisfied: six in /usr/local/lib/python3.10/dist-packages (from onnx==1.9.0) (1.16.0)\n",
            "Requirement already satisfied: typing-extensions>=3.6.2.1 in /usr/local/lib/python3.10/dist-packages (from onnx==1.9.0) (4.5.0)\n",
            "Installing collected packages: onnx\n",
            "Successfully installed onnx-1.9.0\n"
          ]
        }
      ],
      "source": [
        "!pip3 install https://software-dl.ti.com/jacinto7/esd/tidl-tools/09_00_00_02/OSRT_TOOLS/X86_64_LINUX/UBUNTU_22_04/onnx-1.9.0-cp310-cp310-linux_x86_64.whl\n",
        "!wget https://github.com/onnx/models/blob/1008b6e9450ab632538390e38e0ab28b3f207fbc/vision/classification/squeezenet/model/squeezenet1.1-7.onnx?raw=true\n",
        "!mv squeezenet1.1-7.onnx?raw=true squeezenet1.1-7.onnx"
      ]
    },
    {
      "cell_type": "code",
      "source": [
        "import onnx\n",
        "onnx.shape_inference.infer_shapes_path(\"/content/squeezenet1.1-7.onnx\", \"/content/squeezenet1.1-7-shape.onnx\")"
      ],
      "metadata": {
        "id": "YkZvjHT4lDjR"
      },
      "execution_count": 5,
      "outputs": []
    },
    {
      "cell_type": "code",
      "source": [],
      "metadata": {
        "colab": {
          "base_uri": "https://localhost:8080/"
        },
        "id": "lh92S0YrlYfh",
        "outputId": "3bf4aaa7-1456-4759-91da-c7fac6e24b3d"
      },
      "execution_count": 3,
      "outputs": [
        {
          "output_type": "stream",
          "name": "stdout",
          "text": [
            "--2023-10-04 02:47:47--  https://github.com/onnx/models/blob/1008b6e9450ab632538390e38e0ab28b3f207fbc/vision/classification/squeezenet/model/squeezenet1.1-7.onnx?raw=true\n",
            "Resolving github.com (github.com)... 140.82.112.3\n",
            "Connecting to github.com (github.com)|140.82.112.3|:443... connected.\n",
            "HTTP request sent, awaiting response... 302 Found\n",
            "Location: https://github.com/onnx/models/raw/1008b6e9450ab632538390e38e0ab28b3f207fbc/vision/classification/squeezenet/model/squeezenet1.1-7.onnx [following]\n",
            "--2023-10-04 02:47:47--  https://github.com/onnx/models/raw/1008b6e9450ab632538390e38e0ab28b3f207fbc/vision/classification/squeezenet/model/squeezenet1.1-7.onnx\n",
            "Reusing existing connection to github.com:443.\n",
            "HTTP request sent, awaiting response... 302 Found\n",
            "Location: https://media.githubusercontent.com/media/onnx/models/1008b6e9450ab632538390e38e0ab28b3f207fbc/vision/classification/squeezenet/model/squeezenet1.1-7.onnx [following]\n",
            "--2023-10-04 02:47:48--  https://media.githubusercontent.com/media/onnx/models/1008b6e9450ab632538390e38e0ab28b3f207fbc/vision/classification/squeezenet/model/squeezenet1.1-7.onnx\n",
            "Resolving media.githubusercontent.com (media.githubusercontent.com)... 185.199.111.133, 185.199.108.133, 185.199.110.133, ...\n",
            "Connecting to media.githubusercontent.com (media.githubusercontent.com)|185.199.111.133|:443... connected.\n",
            "HTTP request sent, awaiting response... 200 OK\n",
            "Length: 4956208 (4.7M) [application/octet-stream]\n",
            "Saving to: ‘squeezenet1.1-7.onnx?raw=true’\n",
            "\n",
            "squeezenet1.1-7.onn 100%[===================>]   4.73M  --.-KB/s    in 0.1s    \n",
            "\n",
            "2023-10-04 02:47:48 (47.6 MB/s) - ‘squeezenet1.1-7.onnx?raw=true’ saved [4956208/4956208]\n",
            "\n"
          ]
        }
      ]
    }
  ]
}